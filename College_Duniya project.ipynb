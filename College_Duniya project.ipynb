{
 "cells": [
  {
   "cell_type": "code",
   "execution_count": 76,
   "id": "dda2073d",
   "metadata": {},
   "outputs": [],
   "source": [
    "import pandas as pd\n",
    "import numpy as np\n",
    "import re\n",
    "import warnings\n",
    "warnings.filterwarnings(\"ignore\")\n",
    "import matplotlib.pyplot as plt\n",
    "import seaborn as sns"
   ]
  },
  {
   "cell_type": "code",
   "execution_count": 14,
   "id": "cac1e018",
   "metadata": {},
   "outputs": [],
   "source": [
    "import requests"
   ]
  },
  {
   "cell_type": "code",
   "execution_count": 15,
   "id": "9341e7c0",
   "metadata": {},
   "outputs": [],
   "source": [
    "url=\"https://collegedunia.com/engineering-colleges\""
   ]
  },
  {
   "cell_type": "code",
   "execution_count": 16,
   "id": "30705a6a",
   "metadata": {},
   "outputs": [],
   "source": [
    "response=requests.get(url)"
   ]
  },
  {
   "cell_type": "code",
   "execution_count": 17,
   "id": "0885f203",
   "metadata": {},
   "outputs": [
    {
     "data": {
      "text/plain": [
       "403"
      ]
     },
     "execution_count": 17,
     "metadata": {},
     "output_type": "execute_result"
    }
   ],
   "source": [
    "response.status_code"
   ]
  },
  {
   "cell_type": "code",
   "execution_count": 18,
   "id": "6c3941d7",
   "metadata": {},
   "outputs": [
    {
     "data": {
      "text/plain": [
       "<Response [403]>"
      ]
     },
     "execution_count": 18,
     "metadata": {},
     "output_type": "execute_result"
    }
   ],
   "source": [
    "requests.get(url,headers = {'User-Agent':'Mozilla/5.0'})"
   ]
  },
  {
   "cell_type": "code",
   "execution_count": 19,
   "id": "fc00d38f",
   "metadata": {},
   "outputs": [],
   "source": [
    "from selenium import webdriver"
   ]
  },
  {
   "cell_type": "code",
   "execution_count": 8,
   "id": "374cc4b0",
   "metadata": {},
   "outputs": [],
   "source": [
    "url = \"https://collegedunia.com/engineering/bangalore-colleges\""
   ]
  },
  {
   "cell_type": "code",
   "execution_count": 9,
   "id": "c26fb26c",
   "metadata": {},
   "outputs": [],
   "source": [
    "driver = webdriver.Chrome(r\"C:\\Users\\BHARATH CHANDRA\\Downloads\\chromedriver_win32\\chromedriver.exe\")"
   ]
  },
  {
   "cell_type": "code",
   "execution_count": 10,
   "id": "07819633",
   "metadata": {},
   "outputs": [
    {
     "data": {
      "text/plain": [
       "<selenium.webdriver.chrome.webdriver.WebDriver (session=\"020c29c785503b36aaa1cc1c5ea48e6d\")>"
      ]
     },
     "execution_count": 10,
     "metadata": {},
     "output_type": "execute_result"
    }
   ],
   "source": [
    "driver"
   ]
  },
  {
   "cell_type": "code",
   "execution_count": 20,
   "id": "8f62dff1",
   "metadata": {},
   "outputs": [],
   "source": [
    "from bs4 import BeautifulSoup"
   ]
  },
  {
   "cell_type": "code",
   "execution_count": 21,
   "id": "d8e13825",
   "metadata": {},
   "outputs": [],
   "source": [
    "list2 = [\"chennai\",\"Hyderabad\",\"Pune\",\"Coimbatore\",\"Bangalore\",\"Mumbai\",\"Bhopal\",\"Jaipur\",\"Lucknow\",\"Thiruvananthapuram\",\"Kolkata\",\"Ahmedabad\",\"Nagpur\",\"Bhubaneswar\",\"Indore\",\"Guntur\"]"
   ]
  },
  {
   "cell_type": "code",
   "execution_count": 22,
   "id": "a6c5348f",
   "metadata": {},
   "outputs": [
    {
     "name": "stdout",
     "output_type": "stream",
     "text": [
      "https://collegedunia.com/engineering/chennai-colleges\n",
      "https://collegedunia.com/engineering/Hyderabad-colleges\n",
      "https://collegedunia.com/engineering/Pune-colleges\n",
      "https://collegedunia.com/engineering/Coimbatore-colleges\n",
      "https://collegedunia.com/engineering/Bangalore-colleges\n",
      "https://collegedunia.com/engineering/Mumbai-colleges\n",
      "https://collegedunia.com/engineering/Bhopal-colleges\n",
      "https://collegedunia.com/engineering/Jaipur-colleges\n",
      "https://collegedunia.com/engineering/Lucknow-colleges\n",
      "https://collegedunia.com/engineering/Thiruvananthapuram-colleges\n",
      "https://collegedunia.com/engineering/Kolkata-colleges\n",
      "https://collegedunia.com/engineering/Ahmedabad-colleges\n",
      "https://collegedunia.com/engineering/Nagpur-colleges\n",
      "https://collegedunia.com/engineering/Bhubaneswar-colleges\n",
      "https://collegedunia.com/engineering/Indore-colleges\n",
      "https://collegedunia.com/engineering/Guntur-colleges\n"
     ]
    }
   ],
   "source": [
    "for i in list2:\n",
    "    url=f\"https://collegedunia.com/engineering/{i}-colleges\"\n",
    "    print(url)"
   ]
  },
  {
   "cell_type": "markdown",
   "id": "c5f66818",
   "metadata": {},
   "source": [
    "### Collecting the data by using webscraping techinc by Selenium(webdriver)."
   ]
  },
  {
   "cell_type": "code",
   "execution_count": 88,
   "id": "e8be8f97",
   "metadata": {},
   "outputs": [
    {
     "name": "stdout",
     "output_type": "stream",
     "text": [
      "https://collegedunia.com/engineering/chennai-colleges\n",
      "https://collegedunia.com/engineering/Hyderabad-colleges\n",
      "https://collegedunia.com/engineering/Pune-colleges\n",
      "https://collegedunia.com/engineering/Coimbatore-colleges\n",
      "https://collegedunia.com/engineering/Bangalore-colleges\n",
      "https://collegedunia.com/engineering/Mumbai-colleges\n",
      "https://collegedunia.com/engineering/Bhopal-colleges\n",
      "https://collegedunia.com/engineering/Jaipur-colleges\n",
      "https://collegedunia.com/engineering/Lucknow-colleges\n",
      "https://collegedunia.com/engineering/Thiruvananthapuram-colleges\n",
      "https://collegedunia.com/engineering/Kolkata-colleges\n",
      "https://collegedunia.com/engineering/Ahmedabad-colleges\n",
      "https://collegedunia.com/engineering/Nagpur-colleges\n",
      "https://collegedunia.com/engineering/Bhubaneswar-colleges\n",
      "https://collegedunia.com/engineering/Indore-colleges\n",
      "https://collegedunia.com/engineering/Guntur-colleges\n"
     ]
    }
   ],
   "source": [
    "col=[]\n",
    "loc=[]\n",
    "state=[]\n",
    "stream=[]\n",
    "rating=[]\n",
    "reviews=[]\n",
    "course_fee=[]\n",
    "\n",
    "for i in list2:\n",
    "    url=f\"https://collegedunia.com/engineering/{i}-colleges\"\n",
    "    print(url)\n",
    "    driver = webdriver.Chrome(r\"C:\\Users\\BHARATH CHANDRA\\Downloads\\chromedriver_win32\\chromedriver.exe\")\n",
    "    driver.get(url)\n",
    "    soup = BeautifulSoup(driver.page_source,'html.parser')\n",
    "    driver.close()\n",
    "    container=soup.find_all(\"tr\",class_=\"jsx-2257997354 table-row even\" )\n",
    "    for i in container:\n",
    "        b=i.find(\"h3\",class_=\"jsx-2257997354 font-weight-medium text-lg mb-0\")\n",
    "        regex=re.findall(\"(.*),\\s\\w+\",b.text)\n",
    "        if regex :\n",
    "            col.append(regex[0])    \n",
    "        else:\n",
    "            col.append(np.nan)\n",
    "        regex=re.findall(\".*,\\s(\\w+)\",b.text)\n",
    "        if regex :\n",
    "            loc.append(regex[0])\n",
    "        else:\n",
    "            loc.append(np.nan)\n",
    "    for i in container:\n",
    "        c=i.find(\"span\",class_=\"jsx-2257997354 text-lg text-green d-block font-weight-bold mb-1\")\n",
    "        course_fee.append(c.text)\n",
    "    for i in container:\n",
    "        d=soup.find(\"span\", class_=\"jsx-2257997354 pr-1 location\")\n",
    "        regex=re.findall(\"\\,(.*)\",d.text)\n",
    "        if regex:\n",
    "            state.append(regex[0])\n",
    "        else:\n",
    "            state.append(np.nan)\n",
    "    for i in container:\n",
    "        e=soup.find(\"span\", class_=\"jsx-2257997354 lr-key text-lg text-primary d-block font-weight-medium mb-1\")\n",
    "        if e:\n",
    "            regex=re.findall(\"(\\d\\.?\\d?)\\s\\/\\s\",e.text)\n",
    "            if regex:\n",
    "                rating.append(regex[0])\n",
    "            else:\n",
    "                rating.append(np.nan)\n",
    "        else:\n",
    "            rating.append(np.nan)\n",
    "    for i in container:\n",
    "        f=soup.find(\"span\", class_=\"jsx-2257997354 lr-value d-block font-weight-medium text-sm\")\n",
    "        if f:\n",
    "            regex=re.findall(\"\\d+\",f.text)\n",
    "            if regex:\n",
    "                reviews.append(regex[0])\n",
    "            else:\n",
    "                reviews.append(np.nan)\n",
    "        else:\n",
    "            reviews.append(np.nan)\n",
    "    for i in container:\n",
    "        g=i.find(\"td\",class_=\"jsx-2257997354 col-fees\")\n",
    "        if g:\n",
    "            text=g.text\n",
    "            regex=re.findall(\"[0-9,]+(.*)-\",text)\n",
    "            if regex:\n",
    "                stream.append(regex[0])\n",
    "            else:\n",
    "                stream.append(np.nan)\n",
    "        else:\n",
    "            stream.append(np.nan)\n",
    "\n",
    "            \n",
    "    container1=soup.find_all(\"tr\",class_=\"jsx-2257997354 table-row odd\" )\n",
    "    for i in container1:\n",
    "        b=i.find(\"h3\",class_=\"jsx-2257997354 font-weight-medium text-lg mb-0\")\n",
    "        regex=re.findall(\"(.*),\\s\\w+\",b.text)\n",
    "        if regex :\n",
    "            col.append(regex[0])    \n",
    "        else:\n",
    "            col.append(np.nan)\n",
    "        regex=re.findall(\".*,\\s(\\w+)\",b.text)\n",
    "        if regex :\n",
    "            loc.append(regex1[0])\n",
    "        else:\n",
    "            loc.append(np.nan)\n",
    "    for i in container1:\n",
    "        c=i.find(\"span\",class_=\"jsx-2257997354 text-lg text-green d-block font-weight-bold mb-1\")\n",
    "        course_fee.append(c.text)\n",
    "    for i in container1:\n",
    "        d=soup.find(\"span\", class_=\"jsx-2257997354 pr-1 location\")\n",
    "        regex=re.findall(\"\\,(.*)\",d.text)\n",
    "        if regex:\n",
    "            state.append(regex[0])\n",
    "        else:\n",
    "            state.append(np.nan)\n",
    "    for i in container1:\n",
    "        e=soup.find(\"span\", class_=\"jsx-2257997354 lr-key text-lg text-primary d-block font-weight-medium mb-1\")\n",
    "        if e:\n",
    "            regex=re.findall(\"(\\d\\.?\\d?)\\s\\/\\s\",e.text)\n",
    "            if regex:\n",
    "                rating.append(regex[0])\n",
    "            else:\n",
    "                rating.append(np.nan)\n",
    "        else:\n",
    "            rating.append(np.nan)\n",
    "    for i in container1:\n",
    "        f=soup.find(\"span\", class_=\"jsx-2257997354 lr-value d-block font-weight-medium text-sm\")\n",
    "        if f:\n",
    "            regex=re.findall(\"\\d+\",f.text)\n",
    "            if regex:\n",
    "                reviews.append(regex[0])\n",
    "            else:\n",
    "                reviews.append(np.nan)\n",
    "        else:\n",
    "            reviews.append(np.nan)\n",
    "    for i in container1:\n",
    "        g=i.find(\"td\",class_=\"jsx-2257997354 col-fees\")\n",
    "        if f:\n",
    "            text=g.text\n",
    "            regex=re.findall(\"[0-9,]+(.*)-\",text)\n",
    "            if regex:\n",
    "                stream.append(regex[0])\n",
    "            else:\n",
    "                stream.append(np.nan)\n",
    "        else:\n",
    "            stream.append(np.nan)"
   ]
  },
  {
   "cell_type": "code",
   "execution_count": 89,
   "id": "1be0d8d0",
   "metadata": {},
   "outputs": [
    {
     "data": {
      "text/plain": [
       "449"
      ]
     },
     "execution_count": 89,
     "metadata": {},
     "output_type": "execute_result"
    }
   ],
   "source": [
    "len(col)"
   ]
  },
  {
   "cell_type": "code",
   "execution_count": 90,
   "id": "b89bf6e9",
   "metadata": {},
   "outputs": [
    {
     "data": {
      "text/plain": [
       "449"
      ]
     },
     "execution_count": 90,
     "metadata": {},
     "output_type": "execute_result"
    }
   ],
   "source": [
    "len(loc)"
   ]
  },
  {
   "cell_type": "code",
   "execution_count": 91,
   "id": "b6947d2d",
   "metadata": {},
   "outputs": [
    {
     "data": {
      "text/plain": [
       "449"
      ]
     },
     "execution_count": 91,
     "metadata": {},
     "output_type": "execute_result"
    }
   ],
   "source": [
    "len(stream)"
   ]
  },
  {
   "cell_type": "code",
   "execution_count": 92,
   "id": "9ae8268c",
   "metadata": {},
   "outputs": [
    {
     "data": {
      "text/plain": [
       "449"
      ]
     },
     "execution_count": 92,
     "metadata": {},
     "output_type": "execute_result"
    }
   ],
   "source": [
    "len(course_fee)"
   ]
  },
  {
   "cell_type": "code",
   "execution_count": 93,
   "id": "3bf56a2c",
   "metadata": {},
   "outputs": [
    {
     "data": {
      "text/plain": [
       "449"
      ]
     },
     "execution_count": 93,
     "metadata": {},
     "output_type": "execute_result"
    }
   ],
   "source": [
    "len(rating)"
   ]
  },
  {
   "cell_type": "code",
   "execution_count": 95,
   "id": "8277a59e",
   "metadata": {},
   "outputs": [
    {
     "data": {
      "text/plain": [
       "449"
      ]
     },
     "execution_count": 95,
     "metadata": {},
     "output_type": "execute_result"
    }
   ],
   "source": [
    "len(reviews)"
   ]
  },
  {
   "cell_type": "code",
   "execution_count": 96,
   "id": "2a536022",
   "metadata": {},
   "outputs": [
    {
     "data": {
      "text/plain": [
       "449"
      ]
     },
     "execution_count": 96,
     "metadata": {},
     "output_type": "execute_result"
    }
   ],
   "source": [
    "len(state)"
   ]
  },
  {
   "cell_type": "code",
   "execution_count": 77,
   "id": "40a0537f",
   "metadata": {},
   "outputs": [],
   "source": [
    "import numpy as np\n",
    "import pandas as pd\n"
   ]
  },
  {
   "cell_type": "code",
   "execution_count": 23,
   "id": "b924e26b",
   "metadata": {},
   "outputs": [],
   "source": [
    "dic = {\"College_Name\":col,\"Location\":loc,\"aaState\":state,\"Course\":stream,\"Ratings\":rating,\"Reviews\":reviews,\"Course_Fee\":course_fee}"
   ]
  },
  {
   "cell_type": "markdown",
   "id": "7a27f396",
   "metadata": {},
   "source": [
    "### Creating the DataFrame by using the pandas ."
   ]
  },
  {
   "cell_type": "code",
   "execution_count": 117,
   "id": "d1264d61",
   "metadata": {},
   "outputs": [],
   "source": [
    "a1=pd.DataFrame(dic)"
   ]
  },
  {
   "cell_type": "markdown",
   "id": "919eb291",
   "metadata": {},
   "source": [
    "## uploaded the dataframe into the Csv file"
   ]
  },
  {
   "cell_type": "code",
   "execution_count": 118,
   "id": "810e0298",
   "metadata": {},
   "outputs": [
    {
     "data": {
      "text/html": [
       "<div>\n",
       "<style scoped>\n",
       "    .dataframe tbody tr th:only-of-type {\n",
       "        vertical-align: middle;\n",
       "    }\n",
       "\n",
       "    .dataframe tbody tr th {\n",
       "        vertical-align: top;\n",
       "    }\n",
       "\n",
       "    .dataframe thead th {\n",
       "        text-align: right;\n",
       "    }\n",
       "</style>\n",
       "<table border=\"1\" class=\"dataframe\">\n",
       "  <thead>\n",
       "    <tr style=\"text-align: right;\">\n",
       "      <th></th>\n",
       "      <th>College_Name</th>\n",
       "      <th>Location</th>\n",
       "      <th>State</th>\n",
       "      <th>Course</th>\n",
       "      <th>Ratings</th>\n",
       "      <th>Reviews</th>\n",
       "      <th>Course_Fee</th>\n",
       "    </tr>\n",
       "  </thead>\n",
       "  <tbody>\n",
       "    <tr>\n",
       "      <th>0</th>\n",
       "      <td>IIT Madras - Indian Institute of Technology - ...</td>\n",
       "      <td>Chennai</td>\n",
       "      <td>Tamil Nadu</td>\n",
       "      <td>BE/B.Tech</td>\n",
       "      <td>8.7</td>\n",
       "      <td>246</td>\n",
       "      <td>₹ 2,09,550</td>\n",
       "    </tr>\n",
       "    <tr>\n",
       "      <th>1</th>\n",
       "      <td>Indian Maritime University - [IMU]</td>\n",
       "      <td>Chennai</td>\n",
       "      <td>Tamil Nadu</td>\n",
       "      <td>BE/B.Tech</td>\n",
       "      <td>8.7</td>\n",
       "      <td>246</td>\n",
       "      <td>₹ 1,05,000</td>\n",
       "    </tr>\n",
       "    <tr>\n",
       "      <th>2</th>\n",
       "      <td>Saveetha Engineering College - [SEC]</td>\n",
       "      <td>Chennai</td>\n",
       "      <td>Tamil Nadu</td>\n",
       "      <td>BE/B.Tech</td>\n",
       "      <td>8.7</td>\n",
       "      <td>246</td>\n",
       "      <td>₹ 85,000</td>\n",
       "    </tr>\n",
       "    <tr>\n",
       "      <th>3</th>\n",
       "      <td>B.S. Abdur Rahman Crescent Institute of Scienc...</td>\n",
       "      <td>Chennai</td>\n",
       "      <td>Tamil Nadu</td>\n",
       "      <td>BE/B.Tech</td>\n",
       "      <td>8.7</td>\n",
       "      <td>246</td>\n",
       "      <td>₹ 85,000</td>\n",
       "    </tr>\n",
       "    <tr>\n",
       "      <th>4</th>\n",
       "      <td>Saveetha School of Engineering - [SSE]</td>\n",
       "      <td>Chennai</td>\n",
       "      <td>Tamil Nadu</td>\n",
       "      <td>BE/B.Tech</td>\n",
       "      <td>8.7</td>\n",
       "      <td>246</td>\n",
       "      <td>₹ 45,000</td>\n",
       "    </tr>\n",
       "    <tr>\n",
       "      <th>...</th>\n",
       "      <td>...</td>\n",
       "      <td>...</td>\n",
       "      <td>...</td>\n",
       "      <td>...</td>\n",
       "      <td>...</td>\n",
       "      <td>...</td>\n",
       "      <td>...</td>\n",
       "    </tr>\n",
       "    <tr>\n",
       "      <th>444</th>\n",
       "      <td>Chintalapudi Engineering College - [CECG]</td>\n",
       "      <td>Guntur</td>\n",
       "      <td>Andhra Pradesh</td>\n",
       "      <td>BE/B.Tech</td>\n",
       "      <td>8.3</td>\n",
       "      <td>489</td>\n",
       "      <td>₹ 35,000</td>\n",
       "    </tr>\n",
       "    <tr>\n",
       "      <th>445</th>\n",
       "      <td>Vignan's Lara Institute of Technology &amp; Scienc...</td>\n",
       "      <td>Guntur</td>\n",
       "      <td>Andhra Pradesh</td>\n",
       "      <td>BE/B.Tech</td>\n",
       "      <td>8.3</td>\n",
       "      <td>489</td>\n",
       "      <td>₹ 76,000</td>\n",
       "    </tr>\n",
       "    <tr>\n",
       "      <th>446</th>\n",
       "      <td>Newton's  Institute of Engineering - [NIE]</td>\n",
       "      <td>Guntur</td>\n",
       "      <td>Andhra Pradesh</td>\n",
       "      <td>NaN</td>\n",
       "      <td>8.3</td>\n",
       "      <td>489</td>\n",
       "      <td>--</td>\n",
       "    </tr>\n",
       "    <tr>\n",
       "      <th>447</th>\n",
       "      <td>Velaga Nageswara Rao College of Engineering - ...</td>\n",
       "      <td>Guntur</td>\n",
       "      <td>Andhra Pradesh</td>\n",
       "      <td>BE/B.Tech</td>\n",
       "      <td>8.3</td>\n",
       "      <td>489</td>\n",
       "      <td>₹ 35,000</td>\n",
       "    </tr>\n",
       "    <tr>\n",
       "      <th>448</th>\n",
       "      <td>G V R &amp; S College of Engineering &amp; Technology ...</td>\n",
       "      <td>Guntur</td>\n",
       "      <td>Andhra Pradesh</td>\n",
       "      <td>BE/B.Tech</td>\n",
       "      <td>8.3</td>\n",
       "      <td>489</td>\n",
       "      <td>₹ 50,200</td>\n",
       "    </tr>\n",
       "  </tbody>\n",
       "</table>\n",
       "<p>449 rows × 7 columns</p>\n",
       "</div>"
      ],
      "text/plain": [
       "                                          College_Name Location  \\\n",
       "0    IIT Madras - Indian Institute of Technology - ...  Chennai   \n",
       "1                   Indian Maritime University - [IMU]  Chennai   \n",
       "2                 Saveetha Engineering College - [SEC]  Chennai   \n",
       "3    B.S. Abdur Rahman Crescent Institute of Scienc...  Chennai   \n",
       "4               Saveetha School of Engineering - [SSE]  Chennai   \n",
       "..                                                 ...      ...   \n",
       "444          Chintalapudi Engineering College - [CECG]   Guntur   \n",
       "445  Vignan's Lara Institute of Technology & Scienc...   Guntur   \n",
       "446         Newton's  Institute of Engineering - [NIE]   Guntur   \n",
       "447  Velaga Nageswara Rao College of Engineering - ...   Guntur   \n",
       "448  G V R & S College of Engineering & Technology ...   Guntur   \n",
       "\n",
       "               State     Course Ratings Reviews  Course_Fee  \n",
       "0         Tamil Nadu  BE/B.Tech     8.7     246  ₹ 2,09,550  \n",
       "1         Tamil Nadu  BE/B.Tech     8.7     246  ₹ 1,05,000  \n",
       "2         Tamil Nadu  BE/B.Tech     8.7     246    ₹ 85,000  \n",
       "3         Tamil Nadu  BE/B.Tech     8.7     246    ₹ 85,000  \n",
       "4         Tamil Nadu  BE/B.Tech     8.7     246    ₹ 45,000  \n",
       "..               ...        ...     ...     ...         ...  \n",
       "444   Andhra Pradesh  BE/B.Tech     8.3     489    ₹ 35,000  \n",
       "445   Andhra Pradesh  BE/B.Tech     8.3     489    ₹ 76,000  \n",
       "446   Andhra Pradesh        NaN     8.3     489          --  \n",
       "447   Andhra Pradesh  BE/B.Tech     8.3     489    ₹ 35,000  \n",
       "448   Andhra Pradesh  BE/B.Tech     8.3     489    ₹ 50,200  \n",
       "\n",
       "[449 rows x 7 columns]"
      ]
     },
     "execution_count": 118,
     "metadata": {},
     "output_type": "execute_result"
    }
   ],
   "source": [
    "a1"
   ]
  },
  {
   "cell_type": "markdown",
   "id": "ec57c89a",
   "metadata": {},
   "source": [
    "### Read the csv_file by using pandas."
   ]
  },
  {
   "cell_type": "code",
   "execution_count": 104,
   "id": "27e9771e",
   "metadata": {},
   "outputs": [],
   "source": [
    "dfcol = pd.read_csv(\"EDA_project.csv\")"
   ]
  },
  {
   "cell_type": "code",
   "execution_count": 105,
   "id": "3439d654",
   "metadata": {},
   "outputs": [
    {
     "data": {
      "text/html": [
       "<div>\n",
       "<style scoped>\n",
       "    .dataframe tbody tr th:only-of-type {\n",
       "        vertical-align: middle;\n",
       "    }\n",
       "\n",
       "    .dataframe tbody tr th {\n",
       "        vertical-align: top;\n",
       "    }\n",
       "\n",
       "    .dataframe thead th {\n",
       "        text-align: right;\n",
       "    }\n",
       "</style>\n",
       "<table border=\"1\" class=\"dataframe\">\n",
       "  <thead>\n",
       "    <tr style=\"text-align: right;\">\n",
       "      <th></th>\n",
       "      <th>Unnamed: 0.1</th>\n",
       "      <th>Unnamed: 0</th>\n",
       "      <th>College_Name</th>\n",
       "      <th>Location</th>\n",
       "      <th>State</th>\n",
       "      <th>Course</th>\n",
       "      <th>Ratings</th>\n",
       "      <th>Reviews</th>\n",
       "      <th>Course_Fee</th>\n",
       "    </tr>\n",
       "  </thead>\n",
       "  <tbody>\n",
       "    <tr>\n",
       "      <th>0</th>\n",
       "      <td>0</td>\n",
       "      <td>0</td>\n",
       "      <td>IIT Madras - Indian Institute of Technology - ...</td>\n",
       "      <td>Chennai</td>\n",
       "      <td>Tamil Nadu</td>\n",
       "      <td>BE/B.Tech</td>\n",
       "      <td>8.7</td>\n",
       "      <td>246</td>\n",
       "      <td>₹ 2,09,550</td>\n",
       "    </tr>\n",
       "    <tr>\n",
       "      <th>1</th>\n",
       "      <td>1</td>\n",
       "      <td>1</td>\n",
       "      <td>Indian Maritime University - [IMU]</td>\n",
       "      <td>Chennai</td>\n",
       "      <td>Tamil Nadu</td>\n",
       "      <td>BE/B.Tech</td>\n",
       "      <td>8.7</td>\n",
       "      <td>246</td>\n",
       "      <td>₹ 1,05,000</td>\n",
       "    </tr>\n",
       "    <tr>\n",
       "      <th>2</th>\n",
       "      <td>2</td>\n",
       "      <td>2</td>\n",
       "      <td>Saveetha Engineering College - [SEC]</td>\n",
       "      <td>Chennai</td>\n",
       "      <td>Tamil Nadu</td>\n",
       "      <td>BE/B.Tech</td>\n",
       "      <td>8.7</td>\n",
       "      <td>246</td>\n",
       "      <td>₹ 85,000</td>\n",
       "    </tr>\n",
       "    <tr>\n",
       "      <th>3</th>\n",
       "      <td>3</td>\n",
       "      <td>3</td>\n",
       "      <td>B.S. Abdur Rahman Crescent Institute of Scienc...</td>\n",
       "      <td>Chennai</td>\n",
       "      <td>Tamil Nadu</td>\n",
       "      <td>BE/B.Tech</td>\n",
       "      <td>8.7</td>\n",
       "      <td>246</td>\n",
       "      <td>₹ 85,000</td>\n",
       "    </tr>\n",
       "    <tr>\n",
       "      <th>4</th>\n",
       "      <td>4</td>\n",
       "      <td>4</td>\n",
       "      <td>Saveetha School of Engineering - [SSE]</td>\n",
       "      <td>Chennai</td>\n",
       "      <td>Tamil Nadu</td>\n",
       "      <td>BE/B.Tech</td>\n",
       "      <td>8.7</td>\n",
       "      <td>246</td>\n",
       "      <td>₹ 45,000</td>\n",
       "    </tr>\n",
       "    <tr>\n",
       "      <th>...</th>\n",
       "      <td>...</td>\n",
       "      <td>...</td>\n",
       "      <td>...</td>\n",
       "      <td>...</td>\n",
       "      <td>...</td>\n",
       "      <td>...</td>\n",
       "      <td>...</td>\n",
       "      <td>...</td>\n",
       "      <td>...</td>\n",
       "    </tr>\n",
       "    <tr>\n",
       "      <th>444</th>\n",
       "      <td>444</td>\n",
       "      <td>444</td>\n",
       "      <td>Chintalapudi Engineering College - [CECG]</td>\n",
       "      <td>Guntur</td>\n",
       "      <td>Andhra Pradesh</td>\n",
       "      <td>BE/B.Tech</td>\n",
       "      <td>8.3</td>\n",
       "      <td>489</td>\n",
       "      <td>₹ 35,000</td>\n",
       "    </tr>\n",
       "    <tr>\n",
       "      <th>445</th>\n",
       "      <td>445</td>\n",
       "      <td>445</td>\n",
       "      <td>Vignan's Lara Institute of Technology &amp; Scienc...</td>\n",
       "      <td>Guntur</td>\n",
       "      <td>Andhra Pradesh</td>\n",
       "      <td>BE/B.Tech</td>\n",
       "      <td>8.3</td>\n",
       "      <td>489</td>\n",
       "      <td>₹ 76,000</td>\n",
       "    </tr>\n",
       "    <tr>\n",
       "      <th>446</th>\n",
       "      <td>446</td>\n",
       "      <td>446</td>\n",
       "      <td>Newton's  Institute of Engineering - [NIE]</td>\n",
       "      <td>Guntur</td>\n",
       "      <td>Andhra Pradesh</td>\n",
       "      <td>NaN</td>\n",
       "      <td>8.3</td>\n",
       "      <td>489</td>\n",
       "      <td>NaN</td>\n",
       "    </tr>\n",
       "    <tr>\n",
       "      <th>447</th>\n",
       "      <td>447</td>\n",
       "      <td>447</td>\n",
       "      <td>Velaga Nageswara Rao College of Engineering - ...</td>\n",
       "      <td>Guntur</td>\n",
       "      <td>Andhra Pradesh</td>\n",
       "      <td>BE/B.Tech</td>\n",
       "      <td>8.3</td>\n",
       "      <td>489</td>\n",
       "      <td>₹ 35,000</td>\n",
       "    </tr>\n",
       "    <tr>\n",
       "      <th>448</th>\n",
       "      <td>448</td>\n",
       "      <td>448</td>\n",
       "      <td>G V R &amp; S College of Engineering &amp; Technology ...</td>\n",
       "      <td>Guntur</td>\n",
       "      <td>Andhra Pradesh</td>\n",
       "      <td>BE/B.Tech</td>\n",
       "      <td>8.3</td>\n",
       "      <td>489</td>\n",
       "      <td>₹ 50,200</td>\n",
       "    </tr>\n",
       "  </tbody>\n",
       "</table>\n",
       "<p>449 rows × 9 columns</p>\n",
       "</div>"
      ],
      "text/plain": [
       "     Unnamed: 0.1  Unnamed: 0  \\\n",
       "0               0           0   \n",
       "1               1           1   \n",
       "2               2           2   \n",
       "3               3           3   \n",
       "4               4           4   \n",
       "..            ...         ...   \n",
       "444           444         444   \n",
       "445           445         445   \n",
       "446           446         446   \n",
       "447           447         447   \n",
       "448           448         448   \n",
       "\n",
       "                                          College_Name Location  \\\n",
       "0    IIT Madras - Indian Institute of Technology - ...  Chennai   \n",
       "1                   Indian Maritime University - [IMU]  Chennai   \n",
       "2                 Saveetha Engineering College - [SEC]  Chennai   \n",
       "3    B.S. Abdur Rahman Crescent Institute of Scienc...  Chennai   \n",
       "4               Saveetha School of Engineering - [SSE]  Chennai   \n",
       "..                                                 ...      ...   \n",
       "444          Chintalapudi Engineering College - [CECG]   Guntur   \n",
       "445  Vignan's Lara Institute of Technology & Scienc...   Guntur   \n",
       "446         Newton's  Institute of Engineering - [NIE]   Guntur   \n",
       "447  Velaga Nageswara Rao College of Engineering - ...   Guntur   \n",
       "448  G V R & S College of Engineering & Technology ...   Guntur   \n",
       "\n",
       "               State     Course  Ratings  Reviews  Course_Fee  \n",
       "0         Tamil Nadu  BE/B.Tech      8.7      246  ₹ 2,09,550  \n",
       "1         Tamil Nadu  BE/B.Tech      8.7      246  ₹ 1,05,000  \n",
       "2         Tamil Nadu  BE/B.Tech      8.7      246    ₹ 85,000  \n",
       "3         Tamil Nadu  BE/B.Tech      8.7      246    ₹ 85,000  \n",
       "4         Tamil Nadu  BE/B.Tech      8.7      246    ₹ 45,000  \n",
       "..               ...        ...      ...      ...         ...  \n",
       "444   Andhra Pradesh  BE/B.Tech      8.3      489    ₹ 35,000  \n",
       "445   Andhra Pradesh  BE/B.Tech      8.3      489    ₹ 76,000  \n",
       "446   Andhra Pradesh        NaN      8.3      489         NaN  \n",
       "447   Andhra Pradesh  BE/B.Tech      8.3      489    ₹ 35,000  \n",
       "448   Andhra Pradesh  BE/B.Tech      8.3      489    ₹ 50,200  \n",
       "\n",
       "[449 rows x 9 columns]"
      ]
     },
     "execution_count": 105,
     "metadata": {},
     "output_type": "execute_result"
    }
   ],
   "source": [
    "dfcol"
   ]
  },
  {
   "cell_type": "code",
   "execution_count": 106,
   "id": "f70d5a83",
   "metadata": {},
   "outputs": [
    {
     "data": {
      "text/plain": [
       "Index(['Unnamed: 0.1', 'Unnamed: 0', 'College_Name', 'Location', 'State',\n",
       "       'Course', 'Ratings', 'Reviews', 'Course_Fee'],\n",
       "      dtype='object')"
      ]
     },
     "execution_count": 106,
     "metadata": {},
     "output_type": "execute_result"
    }
   ],
   "source": [
    "dfcol.columns"
   ]
  },
  {
   "cell_type": "markdown",
   "id": "b6ca08c2",
   "metadata": {},
   "source": [
    "### Removes the unwanted columns by using reindex function"
   ]
  },
  {
   "cell_type": "code",
   "execution_count": 110,
   "id": "8ca03d3d",
   "metadata": {},
   "outputs": [],
   "source": [
    "dfcol = dfcol.reindex(columns=['College_Name', 'Location', 'State',\n",
    "       'Course', 'Ratings', 'Reviews', 'Course_Fee'])"
   ]
  },
  {
   "cell_type": "code",
   "execution_count": 111,
   "id": "c983e368",
   "metadata": {},
   "outputs": [
    {
     "data": {
      "text/plain": [
       "Index(['College_Name', 'Location', 'State', 'Course', 'Ratings', 'Reviews',\n",
       "       'Course_Fee'],\n",
       "      dtype='object')"
      ]
     },
     "execution_count": 111,
     "metadata": {},
     "output_type": "execute_result"
    }
   ],
   "source": [
    "dfcol.columns"
   ]
  },
  {
   "cell_type": "code",
   "execution_count": 113,
   "id": "61b117e3",
   "metadata": {},
   "outputs": [],
   "source": [
    "dfcol.columns=['College_Name', 'Location', 'State', 'Course', 'Ratings', 'No of Reviews',\n",
    "       'Course_Fee']"
   ]
  },
  {
   "cell_type": "code",
   "execution_count": 114,
   "id": "010d68a3",
   "metadata": {
    "scrolled": true
   },
   "outputs": [
    {
     "data": {
      "text/html": [
       "<div>\n",
       "<style scoped>\n",
       "    .dataframe tbody tr th:only-of-type {\n",
       "        vertical-align: middle;\n",
       "    }\n",
       "\n",
       "    .dataframe tbody tr th {\n",
       "        vertical-align: top;\n",
       "    }\n",
       "\n",
       "    .dataframe thead th {\n",
       "        text-align: right;\n",
       "    }\n",
       "</style>\n",
       "<table border=\"1\" class=\"dataframe\">\n",
       "  <thead>\n",
       "    <tr style=\"text-align: right;\">\n",
       "      <th></th>\n",
       "      <th>College_Name</th>\n",
       "      <th>Location</th>\n",
       "      <th>State</th>\n",
       "      <th>Course</th>\n",
       "      <th>Ratings</th>\n",
       "      <th>No of Reviews</th>\n",
       "      <th>Course_Fee</th>\n",
       "    </tr>\n",
       "  </thead>\n",
       "  <tbody>\n",
       "    <tr>\n",
       "      <th>0</th>\n",
       "      <td>IIT Madras - Indian Institute of Technology - ...</td>\n",
       "      <td>Chennai</td>\n",
       "      <td>Tamil Nadu</td>\n",
       "      <td>BE/B.Tech</td>\n",
       "      <td>8.7</td>\n",
       "      <td>246</td>\n",
       "      <td>₹ 2,09,550</td>\n",
       "    </tr>\n",
       "    <tr>\n",
       "      <th>1</th>\n",
       "      <td>Indian Maritime University - [IMU]</td>\n",
       "      <td>Chennai</td>\n",
       "      <td>Tamil Nadu</td>\n",
       "      <td>BE/B.Tech</td>\n",
       "      <td>8.7</td>\n",
       "      <td>246</td>\n",
       "      <td>₹ 1,05,000</td>\n",
       "    </tr>\n",
       "    <tr>\n",
       "      <th>2</th>\n",
       "      <td>Saveetha Engineering College - [SEC]</td>\n",
       "      <td>Chennai</td>\n",
       "      <td>Tamil Nadu</td>\n",
       "      <td>BE/B.Tech</td>\n",
       "      <td>8.7</td>\n",
       "      <td>246</td>\n",
       "      <td>₹ 85,000</td>\n",
       "    </tr>\n",
       "    <tr>\n",
       "      <th>3</th>\n",
       "      <td>B.S. Abdur Rahman Crescent Institute of Scienc...</td>\n",
       "      <td>Chennai</td>\n",
       "      <td>Tamil Nadu</td>\n",
       "      <td>BE/B.Tech</td>\n",
       "      <td>8.7</td>\n",
       "      <td>246</td>\n",
       "      <td>₹ 85,000</td>\n",
       "    </tr>\n",
       "    <tr>\n",
       "      <th>4</th>\n",
       "      <td>Saveetha School of Engineering - [SSE]</td>\n",
       "      <td>Chennai</td>\n",
       "      <td>Tamil Nadu</td>\n",
       "      <td>BE/B.Tech</td>\n",
       "      <td>8.7</td>\n",
       "      <td>246</td>\n",
       "      <td>₹ 45,000</td>\n",
       "    </tr>\n",
       "    <tr>\n",
       "      <th>...</th>\n",
       "      <td>...</td>\n",
       "      <td>...</td>\n",
       "      <td>...</td>\n",
       "      <td>...</td>\n",
       "      <td>...</td>\n",
       "      <td>...</td>\n",
       "      <td>...</td>\n",
       "    </tr>\n",
       "    <tr>\n",
       "      <th>444</th>\n",
       "      <td>Chintalapudi Engineering College - [CECG]</td>\n",
       "      <td>Guntur</td>\n",
       "      <td>Andhra Pradesh</td>\n",
       "      <td>BE/B.Tech</td>\n",
       "      <td>8.3</td>\n",
       "      <td>489</td>\n",
       "      <td>₹ 35,000</td>\n",
       "    </tr>\n",
       "    <tr>\n",
       "      <th>445</th>\n",
       "      <td>Vignan's Lara Institute of Technology &amp; Scienc...</td>\n",
       "      <td>Guntur</td>\n",
       "      <td>Andhra Pradesh</td>\n",
       "      <td>BE/B.Tech</td>\n",
       "      <td>8.3</td>\n",
       "      <td>489</td>\n",
       "      <td>₹ 76,000</td>\n",
       "    </tr>\n",
       "    <tr>\n",
       "      <th>446</th>\n",
       "      <td>Newton's  Institute of Engineering - [NIE]</td>\n",
       "      <td>Guntur</td>\n",
       "      <td>Andhra Pradesh</td>\n",
       "      <td>NaN</td>\n",
       "      <td>8.3</td>\n",
       "      <td>489</td>\n",
       "      <td>NaN</td>\n",
       "    </tr>\n",
       "    <tr>\n",
       "      <th>447</th>\n",
       "      <td>Velaga Nageswara Rao College of Engineering - ...</td>\n",
       "      <td>Guntur</td>\n",
       "      <td>Andhra Pradesh</td>\n",
       "      <td>BE/B.Tech</td>\n",
       "      <td>8.3</td>\n",
       "      <td>489</td>\n",
       "      <td>₹ 35,000</td>\n",
       "    </tr>\n",
       "    <tr>\n",
       "      <th>448</th>\n",
       "      <td>G V R &amp; S College of Engineering &amp; Technology ...</td>\n",
       "      <td>Guntur</td>\n",
       "      <td>Andhra Pradesh</td>\n",
       "      <td>BE/B.Tech</td>\n",
       "      <td>8.3</td>\n",
       "      <td>489</td>\n",
       "      <td>₹ 50,200</td>\n",
       "    </tr>\n",
       "  </tbody>\n",
       "</table>\n",
       "<p>449 rows × 7 columns</p>\n",
       "</div>"
      ],
      "text/plain": [
       "                                          College_Name Location  \\\n",
       "0    IIT Madras - Indian Institute of Technology - ...  Chennai   \n",
       "1                   Indian Maritime University - [IMU]  Chennai   \n",
       "2                 Saveetha Engineering College - [SEC]  Chennai   \n",
       "3    B.S. Abdur Rahman Crescent Institute of Scienc...  Chennai   \n",
       "4               Saveetha School of Engineering - [SSE]  Chennai   \n",
       "..                                                 ...      ...   \n",
       "444          Chintalapudi Engineering College - [CECG]   Guntur   \n",
       "445  Vignan's Lara Institute of Technology & Scienc...   Guntur   \n",
       "446         Newton's  Institute of Engineering - [NIE]   Guntur   \n",
       "447  Velaga Nageswara Rao College of Engineering - ...   Guntur   \n",
       "448  G V R & S College of Engineering & Technology ...   Guntur   \n",
       "\n",
       "               State     Course  Ratings  No of Reviews  Course_Fee  \n",
       "0         Tamil Nadu  BE/B.Tech      8.7            246  ₹ 2,09,550  \n",
       "1         Tamil Nadu  BE/B.Tech      8.7            246  ₹ 1,05,000  \n",
       "2         Tamil Nadu  BE/B.Tech      8.7            246    ₹ 85,000  \n",
       "3         Tamil Nadu  BE/B.Tech      8.7            246    ₹ 85,000  \n",
       "4         Tamil Nadu  BE/B.Tech      8.7            246    ₹ 45,000  \n",
       "..               ...        ...      ...            ...         ...  \n",
       "444   Andhra Pradesh  BE/B.Tech      8.3            489    ₹ 35,000  \n",
       "445   Andhra Pradesh  BE/B.Tech      8.3            489    ₹ 76,000  \n",
       "446   Andhra Pradesh        NaN      8.3            489         NaN  \n",
       "447   Andhra Pradesh  BE/B.Tech      8.3            489    ₹ 35,000  \n",
       "448   Andhra Pradesh  BE/B.Tech      8.3            489    ₹ 50,200  \n",
       "\n",
       "[449 rows x 7 columns]"
      ]
     },
     "execution_count": 114,
     "metadata": {},
     "output_type": "execute_result"
    }
   ],
   "source": [
    "dfcol"
   ]
  },
  {
   "cell_type": "markdown",
   "id": "c53370b4",
   "metadata": {},
   "source": [
    "### Checking nan's"
   ]
  },
  {
   "cell_type": "code",
   "execution_count": 115,
   "id": "343da60f",
   "metadata": {},
   "outputs": [
    {
     "data": {
      "text/plain": [
       "College_Name      0\n",
       "Location          0\n",
       "State             0\n",
       "Course           10\n",
       "Ratings           0\n",
       "No of Reviews     0\n",
       "Course_Fee       10\n",
       "dtype: int64"
      ]
     },
     "execution_count": 115,
     "metadata": {},
     "output_type": "execute_result"
    }
   ],
   "source": [
    "dfcol.isna().sum()"
   ]
  },
  {
   "cell_type": "markdown",
   "id": "7c676fe5",
   "metadata": {},
   "source": [
    "### Removes the nan by droping the nan by dropna function"
   ]
  },
  {
   "cell_type": "code",
   "execution_count": 116,
   "id": "deef074a",
   "metadata": {},
   "outputs": [],
   "source": [
    "dfcol.dropna(how=\"any\",inplace=True)"
   ]
  },
  {
   "cell_type": "code",
   "execution_count": 117,
   "id": "bd833a36",
   "metadata": {},
   "outputs": [
    {
     "data": {
      "text/html": [
       "<div>\n",
       "<style scoped>\n",
       "    .dataframe tbody tr th:only-of-type {\n",
       "        vertical-align: middle;\n",
       "    }\n",
       "\n",
       "    .dataframe tbody tr th {\n",
       "        vertical-align: top;\n",
       "    }\n",
       "\n",
       "    .dataframe thead th {\n",
       "        text-align: right;\n",
       "    }\n",
       "</style>\n",
       "<table border=\"1\" class=\"dataframe\">\n",
       "  <thead>\n",
       "    <tr style=\"text-align: right;\">\n",
       "      <th></th>\n",
       "      <th>College_Name</th>\n",
       "      <th>Location</th>\n",
       "      <th>State</th>\n",
       "      <th>Course</th>\n",
       "      <th>Ratings</th>\n",
       "      <th>No of Reviews</th>\n",
       "      <th>Course_Fee</th>\n",
       "    </tr>\n",
       "  </thead>\n",
       "  <tbody>\n",
       "    <tr>\n",
       "      <th>0</th>\n",
       "      <td>IIT Madras - Indian Institute of Technology - ...</td>\n",
       "      <td>Chennai</td>\n",
       "      <td>Tamil Nadu</td>\n",
       "      <td>BE/B.Tech</td>\n",
       "      <td>8.7</td>\n",
       "      <td>246</td>\n",
       "      <td>₹ 2,09,550</td>\n",
       "    </tr>\n",
       "    <tr>\n",
       "      <th>1</th>\n",
       "      <td>Indian Maritime University - [IMU]</td>\n",
       "      <td>Chennai</td>\n",
       "      <td>Tamil Nadu</td>\n",
       "      <td>BE/B.Tech</td>\n",
       "      <td>8.7</td>\n",
       "      <td>246</td>\n",
       "      <td>₹ 1,05,000</td>\n",
       "    </tr>\n",
       "    <tr>\n",
       "      <th>2</th>\n",
       "      <td>Saveetha Engineering College - [SEC]</td>\n",
       "      <td>Chennai</td>\n",
       "      <td>Tamil Nadu</td>\n",
       "      <td>BE/B.Tech</td>\n",
       "      <td>8.7</td>\n",
       "      <td>246</td>\n",
       "      <td>₹ 85,000</td>\n",
       "    </tr>\n",
       "    <tr>\n",
       "      <th>3</th>\n",
       "      <td>B.S. Abdur Rahman Crescent Institute of Scienc...</td>\n",
       "      <td>Chennai</td>\n",
       "      <td>Tamil Nadu</td>\n",
       "      <td>BE/B.Tech</td>\n",
       "      <td>8.7</td>\n",
       "      <td>246</td>\n",
       "      <td>₹ 85,000</td>\n",
       "    </tr>\n",
       "    <tr>\n",
       "      <th>4</th>\n",
       "      <td>Saveetha School of Engineering - [SSE]</td>\n",
       "      <td>Chennai</td>\n",
       "      <td>Tamil Nadu</td>\n",
       "      <td>BE/B.Tech</td>\n",
       "      <td>8.7</td>\n",
       "      <td>246</td>\n",
       "      <td>₹ 45,000</td>\n",
       "    </tr>\n",
       "    <tr>\n",
       "      <th>...</th>\n",
       "      <td>...</td>\n",
       "      <td>...</td>\n",
       "      <td>...</td>\n",
       "      <td>...</td>\n",
       "      <td>...</td>\n",
       "      <td>...</td>\n",
       "      <td>...</td>\n",
       "    </tr>\n",
       "    <tr>\n",
       "      <th>443</th>\n",
       "      <td>Malineni Perumallu Educational Society's Group...</td>\n",
       "      <td>Guntur</td>\n",
       "      <td>Andhra Pradesh</td>\n",
       "      <td>BE/B.Tech</td>\n",
       "      <td>8.3</td>\n",
       "      <td>489</td>\n",
       "      <td>₹ 35,000</td>\n",
       "    </tr>\n",
       "    <tr>\n",
       "      <th>444</th>\n",
       "      <td>Chintalapudi Engineering College - [CECG]</td>\n",
       "      <td>Guntur</td>\n",
       "      <td>Andhra Pradesh</td>\n",
       "      <td>BE/B.Tech</td>\n",
       "      <td>8.3</td>\n",
       "      <td>489</td>\n",
       "      <td>₹ 35,000</td>\n",
       "    </tr>\n",
       "    <tr>\n",
       "      <th>445</th>\n",
       "      <td>Vignan's Lara Institute of Technology &amp; Scienc...</td>\n",
       "      <td>Guntur</td>\n",
       "      <td>Andhra Pradesh</td>\n",
       "      <td>BE/B.Tech</td>\n",
       "      <td>8.3</td>\n",
       "      <td>489</td>\n",
       "      <td>₹ 76,000</td>\n",
       "    </tr>\n",
       "    <tr>\n",
       "      <th>447</th>\n",
       "      <td>Velaga Nageswara Rao College of Engineering - ...</td>\n",
       "      <td>Guntur</td>\n",
       "      <td>Andhra Pradesh</td>\n",
       "      <td>BE/B.Tech</td>\n",
       "      <td>8.3</td>\n",
       "      <td>489</td>\n",
       "      <td>₹ 35,000</td>\n",
       "    </tr>\n",
       "    <tr>\n",
       "      <th>448</th>\n",
       "      <td>G V R &amp; S College of Engineering &amp; Technology ...</td>\n",
       "      <td>Guntur</td>\n",
       "      <td>Andhra Pradesh</td>\n",
       "      <td>BE/B.Tech</td>\n",
       "      <td>8.3</td>\n",
       "      <td>489</td>\n",
       "      <td>₹ 50,200</td>\n",
       "    </tr>\n",
       "  </tbody>\n",
       "</table>\n",
       "<p>439 rows × 7 columns</p>\n",
       "</div>"
      ],
      "text/plain": [
       "                                          College_Name Location  \\\n",
       "0    IIT Madras - Indian Institute of Technology - ...  Chennai   \n",
       "1                   Indian Maritime University - [IMU]  Chennai   \n",
       "2                 Saveetha Engineering College - [SEC]  Chennai   \n",
       "3    B.S. Abdur Rahman Crescent Institute of Scienc...  Chennai   \n",
       "4               Saveetha School of Engineering - [SSE]  Chennai   \n",
       "..                                                 ...      ...   \n",
       "443  Malineni Perumallu Educational Society's Group...   Guntur   \n",
       "444          Chintalapudi Engineering College - [CECG]   Guntur   \n",
       "445  Vignan's Lara Institute of Technology & Scienc...   Guntur   \n",
       "447  Velaga Nageswara Rao College of Engineering - ...   Guntur   \n",
       "448  G V R & S College of Engineering & Technology ...   Guntur   \n",
       "\n",
       "               State     Course  Ratings  No of Reviews  Course_Fee  \n",
       "0         Tamil Nadu  BE/B.Tech      8.7            246  ₹ 2,09,550  \n",
       "1         Tamil Nadu  BE/B.Tech      8.7            246  ₹ 1,05,000  \n",
       "2         Tamil Nadu  BE/B.Tech      8.7            246    ₹ 85,000  \n",
       "3         Tamil Nadu  BE/B.Tech      8.7            246    ₹ 85,000  \n",
       "4         Tamil Nadu  BE/B.Tech      8.7            246    ₹ 45,000  \n",
       "..               ...        ...      ...            ...         ...  \n",
       "443   Andhra Pradesh  BE/B.Tech      8.3            489    ₹ 35,000  \n",
       "444   Andhra Pradesh  BE/B.Tech      8.3            489    ₹ 35,000  \n",
       "445   Andhra Pradesh  BE/B.Tech      8.3            489    ₹ 76,000  \n",
       "447   Andhra Pradesh  BE/B.Tech      8.3            489    ₹ 35,000  \n",
       "448   Andhra Pradesh  BE/B.Tech      8.3            489    ₹ 50,200  \n",
       "\n",
       "[439 rows x 7 columns]"
      ]
     },
     "execution_count": 117,
     "metadata": {},
     "output_type": "execute_result"
    }
   ],
   "source": [
    "dfcol"
   ]
  },
  {
   "cell_type": "code",
   "execution_count": 118,
   "id": "cf519371",
   "metadata": {},
   "outputs": [
    {
     "data": {
      "text/plain": [
       "College_Name     0\n",
       "Location         0\n",
       "State            0\n",
       "Course           0\n",
       "Ratings          0\n",
       "No of Reviews    0\n",
       "Course_Fee       0\n",
       "dtype: int64"
      ]
     },
     "execution_count": 118,
     "metadata": {},
     "output_type": "execute_result"
    }
   ],
   "source": [
    "dfcol.isna().sum()"
   ]
  },
  {
   "cell_type": "code",
   "execution_count": 119,
   "id": "c82a86d7",
   "metadata": {
    "scrolled": true
   },
   "outputs": [
    {
     "data": {
      "text/plain": [
       "College_Name      object\n",
       "Location          object\n",
       "State             object\n",
       "Course            object\n",
       "Ratings          float64\n",
       "No of Reviews      int64\n",
       "Course_Fee        object\n",
       "dtype: object"
      ]
     },
     "execution_count": 119,
     "metadata": {},
     "output_type": "execute_result"
    }
   ],
   "source": [
    "dfcol.dtypes"
   ]
  },
  {
   "cell_type": "markdown",
   "id": "d448a0e3",
   "metadata": {},
   "source": [
    "### Validation the data by using the duplicated function"
   ]
  },
  {
   "cell_type": "code",
   "execution_count": 120,
   "id": "7fc1b8c6",
   "metadata": {
    "scrolled": true
   },
   "outputs": [
    {
     "data": {
      "text/html": [
       "<div>\n",
       "<style scoped>\n",
       "    .dataframe tbody tr th:only-of-type {\n",
       "        vertical-align: middle;\n",
       "    }\n",
       "\n",
       "    .dataframe tbody tr th {\n",
       "        vertical-align: top;\n",
       "    }\n",
       "\n",
       "    .dataframe thead th {\n",
       "        text-align: right;\n",
       "    }\n",
       "</style>\n",
       "<table border=\"1\" class=\"dataframe\">\n",
       "  <thead>\n",
       "    <tr style=\"text-align: right;\">\n",
       "      <th></th>\n",
       "      <th>College_Name</th>\n",
       "      <th>Location</th>\n",
       "      <th>State</th>\n",
       "      <th>Course</th>\n",
       "      <th>Ratings</th>\n",
       "      <th>No of Reviews</th>\n",
       "      <th>Course_Fee</th>\n",
       "    </tr>\n",
       "  </thead>\n",
       "  <tbody>\n",
       "  </tbody>\n",
       "</table>\n",
       "</div>"
      ],
      "text/plain": [
       "Empty DataFrame\n",
       "Columns: [College_Name, Location, State, Course, Ratings, No of Reviews, Course_Fee]\n",
       "Index: []"
      ]
     },
     "execution_count": 120,
     "metadata": {},
     "output_type": "execute_result"
    }
   ],
   "source": [
    "dfcol[dfcol.duplicated()]"
   ]
  },
  {
   "cell_type": "code",
   "execution_count": 121,
   "id": "ad433f7d",
   "metadata": {},
   "outputs": [],
   "source": [
    "dfcol = dfcol.reset_index(drop=True)"
   ]
  },
  {
   "cell_type": "code",
   "execution_count": 122,
   "id": "f06f3ed4",
   "metadata": {},
   "outputs": [
    {
     "data": {
      "text/html": [
       "<div>\n",
       "<style scoped>\n",
       "    .dataframe tbody tr th:only-of-type {\n",
       "        vertical-align: middle;\n",
       "    }\n",
       "\n",
       "    .dataframe tbody tr th {\n",
       "        vertical-align: top;\n",
       "    }\n",
       "\n",
       "    .dataframe thead th {\n",
       "        text-align: right;\n",
       "    }\n",
       "</style>\n",
       "<table border=\"1\" class=\"dataframe\">\n",
       "  <thead>\n",
       "    <tr style=\"text-align: right;\">\n",
       "      <th></th>\n",
       "      <th>College_Name</th>\n",
       "      <th>Location</th>\n",
       "      <th>State</th>\n",
       "      <th>Course</th>\n",
       "      <th>Ratings</th>\n",
       "      <th>No of Reviews</th>\n",
       "      <th>Course_Fee</th>\n",
       "    </tr>\n",
       "  </thead>\n",
       "  <tbody>\n",
       "    <tr>\n",
       "      <th>0</th>\n",
       "      <td>IIT Madras - Indian Institute of Technology - ...</td>\n",
       "      <td>Chennai</td>\n",
       "      <td>Tamil Nadu</td>\n",
       "      <td>BE/B.Tech</td>\n",
       "      <td>8.7</td>\n",
       "      <td>246</td>\n",
       "      <td>₹ 2,09,550</td>\n",
       "    </tr>\n",
       "    <tr>\n",
       "      <th>1</th>\n",
       "      <td>Indian Maritime University - [IMU]</td>\n",
       "      <td>Chennai</td>\n",
       "      <td>Tamil Nadu</td>\n",
       "      <td>BE/B.Tech</td>\n",
       "      <td>8.7</td>\n",
       "      <td>246</td>\n",
       "      <td>₹ 1,05,000</td>\n",
       "    </tr>\n",
       "    <tr>\n",
       "      <th>2</th>\n",
       "      <td>Saveetha Engineering College - [SEC]</td>\n",
       "      <td>Chennai</td>\n",
       "      <td>Tamil Nadu</td>\n",
       "      <td>BE/B.Tech</td>\n",
       "      <td>8.7</td>\n",
       "      <td>246</td>\n",
       "      <td>₹ 85,000</td>\n",
       "    </tr>\n",
       "    <tr>\n",
       "      <th>3</th>\n",
       "      <td>B.S. Abdur Rahman Crescent Institute of Scienc...</td>\n",
       "      <td>Chennai</td>\n",
       "      <td>Tamil Nadu</td>\n",
       "      <td>BE/B.Tech</td>\n",
       "      <td>8.7</td>\n",
       "      <td>246</td>\n",
       "      <td>₹ 85,000</td>\n",
       "    </tr>\n",
       "    <tr>\n",
       "      <th>4</th>\n",
       "      <td>Saveetha School of Engineering - [SSE]</td>\n",
       "      <td>Chennai</td>\n",
       "      <td>Tamil Nadu</td>\n",
       "      <td>BE/B.Tech</td>\n",
       "      <td>8.7</td>\n",
       "      <td>246</td>\n",
       "      <td>₹ 45,000</td>\n",
       "    </tr>\n",
       "    <tr>\n",
       "      <th>...</th>\n",
       "      <td>...</td>\n",
       "      <td>...</td>\n",
       "      <td>...</td>\n",
       "      <td>...</td>\n",
       "      <td>...</td>\n",
       "      <td>...</td>\n",
       "      <td>...</td>\n",
       "    </tr>\n",
       "    <tr>\n",
       "      <th>434</th>\n",
       "      <td>Malineni Perumallu Educational Society's Group...</td>\n",
       "      <td>Guntur</td>\n",
       "      <td>Andhra Pradesh</td>\n",
       "      <td>BE/B.Tech</td>\n",
       "      <td>8.3</td>\n",
       "      <td>489</td>\n",
       "      <td>₹ 35,000</td>\n",
       "    </tr>\n",
       "    <tr>\n",
       "      <th>435</th>\n",
       "      <td>Chintalapudi Engineering College - [CECG]</td>\n",
       "      <td>Guntur</td>\n",
       "      <td>Andhra Pradesh</td>\n",
       "      <td>BE/B.Tech</td>\n",
       "      <td>8.3</td>\n",
       "      <td>489</td>\n",
       "      <td>₹ 35,000</td>\n",
       "    </tr>\n",
       "    <tr>\n",
       "      <th>436</th>\n",
       "      <td>Vignan's Lara Institute of Technology &amp; Scienc...</td>\n",
       "      <td>Guntur</td>\n",
       "      <td>Andhra Pradesh</td>\n",
       "      <td>BE/B.Tech</td>\n",
       "      <td>8.3</td>\n",
       "      <td>489</td>\n",
       "      <td>₹ 76,000</td>\n",
       "    </tr>\n",
       "    <tr>\n",
       "      <th>437</th>\n",
       "      <td>Velaga Nageswara Rao College of Engineering - ...</td>\n",
       "      <td>Guntur</td>\n",
       "      <td>Andhra Pradesh</td>\n",
       "      <td>BE/B.Tech</td>\n",
       "      <td>8.3</td>\n",
       "      <td>489</td>\n",
       "      <td>₹ 35,000</td>\n",
       "    </tr>\n",
       "    <tr>\n",
       "      <th>438</th>\n",
       "      <td>G V R &amp; S College of Engineering &amp; Technology ...</td>\n",
       "      <td>Guntur</td>\n",
       "      <td>Andhra Pradesh</td>\n",
       "      <td>BE/B.Tech</td>\n",
       "      <td>8.3</td>\n",
       "      <td>489</td>\n",
       "      <td>₹ 50,200</td>\n",
       "    </tr>\n",
       "  </tbody>\n",
       "</table>\n",
       "<p>439 rows × 7 columns</p>\n",
       "</div>"
      ],
      "text/plain": [
       "                                          College_Name Location  \\\n",
       "0    IIT Madras - Indian Institute of Technology - ...  Chennai   \n",
       "1                   Indian Maritime University - [IMU]  Chennai   \n",
       "2                 Saveetha Engineering College - [SEC]  Chennai   \n",
       "3    B.S. Abdur Rahman Crescent Institute of Scienc...  Chennai   \n",
       "4               Saveetha School of Engineering - [SSE]  Chennai   \n",
       "..                                                 ...      ...   \n",
       "434  Malineni Perumallu Educational Society's Group...   Guntur   \n",
       "435          Chintalapudi Engineering College - [CECG]   Guntur   \n",
       "436  Vignan's Lara Institute of Technology & Scienc...   Guntur   \n",
       "437  Velaga Nageswara Rao College of Engineering - ...   Guntur   \n",
       "438  G V R & S College of Engineering & Technology ...   Guntur   \n",
       "\n",
       "               State     Course  Ratings  No of Reviews  Course_Fee  \n",
       "0         Tamil Nadu  BE/B.Tech      8.7            246  ₹ 2,09,550  \n",
       "1         Tamil Nadu  BE/B.Tech      8.7            246  ₹ 1,05,000  \n",
       "2         Tamil Nadu  BE/B.Tech      8.7            246    ₹ 85,000  \n",
       "3         Tamil Nadu  BE/B.Tech      8.7            246    ₹ 85,000  \n",
       "4         Tamil Nadu  BE/B.Tech      8.7            246    ₹ 45,000  \n",
       "..               ...        ...      ...            ...         ...  \n",
       "434   Andhra Pradesh  BE/B.Tech      8.3            489    ₹ 35,000  \n",
       "435   Andhra Pradesh  BE/B.Tech      8.3            489    ₹ 35,000  \n",
       "436   Andhra Pradesh  BE/B.Tech      8.3            489    ₹ 76,000  \n",
       "437   Andhra Pradesh  BE/B.Tech      8.3            489    ₹ 35,000  \n",
       "438   Andhra Pradesh  BE/B.Tech      8.3            489    ₹ 50,200  \n",
       "\n",
       "[439 rows x 7 columns]"
      ]
     },
     "execution_count": 122,
     "metadata": {},
     "output_type": "execute_result"
    }
   ],
   "source": [
    "dfcol"
   ]
  },
  {
   "cell_type": "code",
   "execution_count": 123,
   "id": "afacbfeb",
   "metadata": {},
   "outputs": [
    {
     "data": {
      "text/plain": [
       "College_Name     0\n",
       "Location         0\n",
       "State            0\n",
       "Course           0\n",
       "Ratings          0\n",
       "No of Reviews    0\n",
       "Course_Fee       0\n",
       "dtype: int64"
      ]
     },
     "execution_count": 123,
     "metadata": {},
     "output_type": "execute_result"
    }
   ],
   "source": [
    "dfcol.isna().sum()"
   ]
  },
  {
   "cell_type": "markdown",
   "id": "47399586",
   "metadata": {},
   "source": [
    "### Remove the unwanted charcters in the numerical columns.. by using the replace function"
   ]
  },
  {
   "cell_type": "code",
   "execution_count": 124,
   "id": "c9921a6f",
   "metadata": {},
   "outputs": [],
   "source": [
    "dfcol[\"Course_Fee\"]=dfcol[\"Course_Fee\"].replace(\"₹\",\"\",regex=True)"
   ]
  },
  {
   "cell_type": "code",
   "execution_count": 125,
   "id": "15c3ea69",
   "metadata": {},
   "outputs": [
    {
     "data": {
      "text/html": [
       "<div>\n",
       "<style scoped>\n",
       "    .dataframe tbody tr th:only-of-type {\n",
       "        vertical-align: middle;\n",
       "    }\n",
       "\n",
       "    .dataframe tbody tr th {\n",
       "        vertical-align: top;\n",
       "    }\n",
       "\n",
       "    .dataframe thead th {\n",
       "        text-align: right;\n",
       "    }\n",
       "</style>\n",
       "<table border=\"1\" class=\"dataframe\">\n",
       "  <thead>\n",
       "    <tr style=\"text-align: right;\">\n",
       "      <th></th>\n",
       "      <th>College_Name</th>\n",
       "      <th>Location</th>\n",
       "      <th>State</th>\n",
       "      <th>Course</th>\n",
       "      <th>Ratings</th>\n",
       "      <th>No of Reviews</th>\n",
       "      <th>Course_Fee</th>\n",
       "    </tr>\n",
       "  </thead>\n",
       "  <tbody>\n",
       "    <tr>\n",
       "      <th>0</th>\n",
       "      <td>IIT Madras - Indian Institute of Technology - ...</td>\n",
       "      <td>Chennai</td>\n",
       "      <td>Tamil Nadu</td>\n",
       "      <td>BE/B.Tech</td>\n",
       "      <td>8.7</td>\n",
       "      <td>246</td>\n",
       "      <td>2,09,550</td>\n",
       "    </tr>\n",
       "    <tr>\n",
       "      <th>1</th>\n",
       "      <td>Indian Maritime University - [IMU]</td>\n",
       "      <td>Chennai</td>\n",
       "      <td>Tamil Nadu</td>\n",
       "      <td>BE/B.Tech</td>\n",
       "      <td>8.7</td>\n",
       "      <td>246</td>\n",
       "      <td>1,05,000</td>\n",
       "    </tr>\n",
       "    <tr>\n",
       "      <th>2</th>\n",
       "      <td>Saveetha Engineering College - [SEC]</td>\n",
       "      <td>Chennai</td>\n",
       "      <td>Tamil Nadu</td>\n",
       "      <td>BE/B.Tech</td>\n",
       "      <td>8.7</td>\n",
       "      <td>246</td>\n",
       "      <td>85,000</td>\n",
       "    </tr>\n",
       "    <tr>\n",
       "      <th>3</th>\n",
       "      <td>B.S. Abdur Rahman Crescent Institute of Scienc...</td>\n",
       "      <td>Chennai</td>\n",
       "      <td>Tamil Nadu</td>\n",
       "      <td>BE/B.Tech</td>\n",
       "      <td>8.7</td>\n",
       "      <td>246</td>\n",
       "      <td>85,000</td>\n",
       "    </tr>\n",
       "    <tr>\n",
       "      <th>4</th>\n",
       "      <td>Saveetha School of Engineering - [SSE]</td>\n",
       "      <td>Chennai</td>\n",
       "      <td>Tamil Nadu</td>\n",
       "      <td>BE/B.Tech</td>\n",
       "      <td>8.7</td>\n",
       "      <td>246</td>\n",
       "      <td>45,000</td>\n",
       "    </tr>\n",
       "    <tr>\n",
       "      <th>...</th>\n",
       "      <td>...</td>\n",
       "      <td>...</td>\n",
       "      <td>...</td>\n",
       "      <td>...</td>\n",
       "      <td>...</td>\n",
       "      <td>...</td>\n",
       "      <td>...</td>\n",
       "    </tr>\n",
       "    <tr>\n",
       "      <th>434</th>\n",
       "      <td>Malineni Perumallu Educational Society's Group...</td>\n",
       "      <td>Guntur</td>\n",
       "      <td>Andhra Pradesh</td>\n",
       "      <td>BE/B.Tech</td>\n",
       "      <td>8.3</td>\n",
       "      <td>489</td>\n",
       "      <td>35,000</td>\n",
       "    </tr>\n",
       "    <tr>\n",
       "      <th>435</th>\n",
       "      <td>Chintalapudi Engineering College - [CECG]</td>\n",
       "      <td>Guntur</td>\n",
       "      <td>Andhra Pradesh</td>\n",
       "      <td>BE/B.Tech</td>\n",
       "      <td>8.3</td>\n",
       "      <td>489</td>\n",
       "      <td>35,000</td>\n",
       "    </tr>\n",
       "    <tr>\n",
       "      <th>436</th>\n",
       "      <td>Vignan's Lara Institute of Technology &amp; Scienc...</td>\n",
       "      <td>Guntur</td>\n",
       "      <td>Andhra Pradesh</td>\n",
       "      <td>BE/B.Tech</td>\n",
       "      <td>8.3</td>\n",
       "      <td>489</td>\n",
       "      <td>76,000</td>\n",
       "    </tr>\n",
       "    <tr>\n",
       "      <th>437</th>\n",
       "      <td>Velaga Nageswara Rao College of Engineering - ...</td>\n",
       "      <td>Guntur</td>\n",
       "      <td>Andhra Pradesh</td>\n",
       "      <td>BE/B.Tech</td>\n",
       "      <td>8.3</td>\n",
       "      <td>489</td>\n",
       "      <td>35,000</td>\n",
       "    </tr>\n",
       "    <tr>\n",
       "      <th>438</th>\n",
       "      <td>G V R &amp; S College of Engineering &amp; Technology ...</td>\n",
       "      <td>Guntur</td>\n",
       "      <td>Andhra Pradesh</td>\n",
       "      <td>BE/B.Tech</td>\n",
       "      <td>8.3</td>\n",
       "      <td>489</td>\n",
       "      <td>50,200</td>\n",
       "    </tr>\n",
       "  </tbody>\n",
       "</table>\n",
       "<p>439 rows × 7 columns</p>\n",
       "</div>"
      ],
      "text/plain": [
       "                                          College_Name Location  \\\n",
       "0    IIT Madras - Indian Institute of Technology - ...  Chennai   \n",
       "1                   Indian Maritime University - [IMU]  Chennai   \n",
       "2                 Saveetha Engineering College - [SEC]  Chennai   \n",
       "3    B.S. Abdur Rahman Crescent Institute of Scienc...  Chennai   \n",
       "4               Saveetha School of Engineering - [SSE]  Chennai   \n",
       "..                                                 ...      ...   \n",
       "434  Malineni Perumallu Educational Society's Group...   Guntur   \n",
       "435          Chintalapudi Engineering College - [CECG]   Guntur   \n",
       "436  Vignan's Lara Institute of Technology & Scienc...   Guntur   \n",
       "437  Velaga Nageswara Rao College of Engineering - ...   Guntur   \n",
       "438  G V R & S College of Engineering & Technology ...   Guntur   \n",
       "\n",
       "               State     Course  Ratings  No of Reviews Course_Fee  \n",
       "0         Tamil Nadu  BE/B.Tech      8.7            246   2,09,550  \n",
       "1         Tamil Nadu  BE/B.Tech      8.7            246   1,05,000  \n",
       "2         Tamil Nadu  BE/B.Tech      8.7            246     85,000  \n",
       "3         Tamil Nadu  BE/B.Tech      8.7            246     85,000  \n",
       "4         Tamil Nadu  BE/B.Tech      8.7            246     45,000  \n",
       "..               ...        ...      ...            ...        ...  \n",
       "434   Andhra Pradesh  BE/B.Tech      8.3            489     35,000  \n",
       "435   Andhra Pradesh  BE/B.Tech      8.3            489     35,000  \n",
       "436   Andhra Pradesh  BE/B.Tech      8.3            489     76,000  \n",
       "437   Andhra Pradesh  BE/B.Tech      8.3            489     35,000  \n",
       "438   Andhra Pradesh  BE/B.Tech      8.3            489     50,200  \n",
       "\n",
       "[439 rows x 7 columns]"
      ]
     },
     "execution_count": 125,
     "metadata": {},
     "output_type": "execute_result"
    }
   ],
   "source": [
    "dfcol"
   ]
  },
  {
   "cell_type": "code",
   "execution_count": 126,
   "id": "e46a7b70",
   "metadata": {},
   "outputs": [
    {
     "data": {
      "text/plain": [
       "0       209550\n",
       "1       105000\n",
       "2        85000\n",
       "3        85000\n",
       "4        45000\n",
       "        ...   \n",
       "434      35000\n",
       "435      35000\n",
       "436      76000\n",
       "437      35000\n",
       "438      50200\n",
       "Name: Course_Fee, Length: 439, dtype: object"
      ]
     },
     "execution_count": 126,
     "metadata": {},
     "output_type": "execute_result"
    }
   ],
   "source": [
    "dfcol[\"Course_Fee\"].replace(\",\",\"\",regex=True)"
   ]
  },
  {
   "cell_type": "code",
   "execution_count": 127,
   "id": "488f4b87",
   "metadata": {},
   "outputs": [],
   "source": [
    "dfcol[\"Course_Fee\"]=dfcol[\"Course_Fee\"].replace(\",\",\"\",regex=True)"
   ]
  },
  {
   "cell_type": "markdown",
   "id": "0a726e85",
   "metadata": {},
   "source": [
    "### Converting the numerical data columns into integer and float, by using astype function"
   ]
  },
  {
   "cell_type": "code",
   "execution_count": 128,
   "id": "4bf74ad4",
   "metadata": {},
   "outputs": [
    {
     "data": {
      "text/html": [
       "<div>\n",
       "<style scoped>\n",
       "    .dataframe tbody tr th:only-of-type {\n",
       "        vertical-align: middle;\n",
       "    }\n",
       "\n",
       "    .dataframe tbody tr th {\n",
       "        vertical-align: top;\n",
       "    }\n",
       "\n",
       "    .dataframe thead th {\n",
       "        text-align: right;\n",
       "    }\n",
       "</style>\n",
       "<table border=\"1\" class=\"dataframe\">\n",
       "  <thead>\n",
       "    <tr style=\"text-align: right;\">\n",
       "      <th></th>\n",
       "      <th>College_Name</th>\n",
       "      <th>Location</th>\n",
       "      <th>State</th>\n",
       "      <th>Course</th>\n",
       "      <th>Ratings</th>\n",
       "      <th>No of Reviews</th>\n",
       "      <th>Course_Fee</th>\n",
       "    </tr>\n",
       "  </thead>\n",
       "  <tbody>\n",
       "    <tr>\n",
       "      <th>0</th>\n",
       "      <td>IIT Madras - Indian Institute of Technology - ...</td>\n",
       "      <td>Chennai</td>\n",
       "      <td>Tamil Nadu</td>\n",
       "      <td>BE/B.Tech</td>\n",
       "      <td>8.7</td>\n",
       "      <td>246</td>\n",
       "      <td>209550</td>\n",
       "    </tr>\n",
       "    <tr>\n",
       "      <th>1</th>\n",
       "      <td>Indian Maritime University - [IMU]</td>\n",
       "      <td>Chennai</td>\n",
       "      <td>Tamil Nadu</td>\n",
       "      <td>BE/B.Tech</td>\n",
       "      <td>8.7</td>\n",
       "      <td>246</td>\n",
       "      <td>105000</td>\n",
       "    </tr>\n",
       "    <tr>\n",
       "      <th>2</th>\n",
       "      <td>Saveetha Engineering College - [SEC]</td>\n",
       "      <td>Chennai</td>\n",
       "      <td>Tamil Nadu</td>\n",
       "      <td>BE/B.Tech</td>\n",
       "      <td>8.7</td>\n",
       "      <td>246</td>\n",
       "      <td>85000</td>\n",
       "    </tr>\n",
       "    <tr>\n",
       "      <th>3</th>\n",
       "      <td>B.S. Abdur Rahman Crescent Institute of Scienc...</td>\n",
       "      <td>Chennai</td>\n",
       "      <td>Tamil Nadu</td>\n",
       "      <td>BE/B.Tech</td>\n",
       "      <td>8.7</td>\n",
       "      <td>246</td>\n",
       "      <td>85000</td>\n",
       "    </tr>\n",
       "    <tr>\n",
       "      <th>4</th>\n",
       "      <td>Saveetha School of Engineering - [SSE]</td>\n",
       "      <td>Chennai</td>\n",
       "      <td>Tamil Nadu</td>\n",
       "      <td>BE/B.Tech</td>\n",
       "      <td>8.7</td>\n",
       "      <td>246</td>\n",
       "      <td>45000</td>\n",
       "    </tr>\n",
       "    <tr>\n",
       "      <th>...</th>\n",
       "      <td>...</td>\n",
       "      <td>...</td>\n",
       "      <td>...</td>\n",
       "      <td>...</td>\n",
       "      <td>...</td>\n",
       "      <td>...</td>\n",
       "      <td>...</td>\n",
       "    </tr>\n",
       "    <tr>\n",
       "      <th>434</th>\n",
       "      <td>Malineni Perumallu Educational Society's Group...</td>\n",
       "      <td>Guntur</td>\n",
       "      <td>Andhra Pradesh</td>\n",
       "      <td>BE/B.Tech</td>\n",
       "      <td>8.3</td>\n",
       "      <td>489</td>\n",
       "      <td>35000</td>\n",
       "    </tr>\n",
       "    <tr>\n",
       "      <th>435</th>\n",
       "      <td>Chintalapudi Engineering College - [CECG]</td>\n",
       "      <td>Guntur</td>\n",
       "      <td>Andhra Pradesh</td>\n",
       "      <td>BE/B.Tech</td>\n",
       "      <td>8.3</td>\n",
       "      <td>489</td>\n",
       "      <td>35000</td>\n",
       "    </tr>\n",
       "    <tr>\n",
       "      <th>436</th>\n",
       "      <td>Vignan's Lara Institute of Technology &amp; Scienc...</td>\n",
       "      <td>Guntur</td>\n",
       "      <td>Andhra Pradesh</td>\n",
       "      <td>BE/B.Tech</td>\n",
       "      <td>8.3</td>\n",
       "      <td>489</td>\n",
       "      <td>76000</td>\n",
       "    </tr>\n",
       "    <tr>\n",
       "      <th>437</th>\n",
       "      <td>Velaga Nageswara Rao College of Engineering - ...</td>\n",
       "      <td>Guntur</td>\n",
       "      <td>Andhra Pradesh</td>\n",
       "      <td>BE/B.Tech</td>\n",
       "      <td>8.3</td>\n",
       "      <td>489</td>\n",
       "      <td>35000</td>\n",
       "    </tr>\n",
       "    <tr>\n",
       "      <th>438</th>\n",
       "      <td>G V R &amp; S College of Engineering &amp; Technology ...</td>\n",
       "      <td>Guntur</td>\n",
       "      <td>Andhra Pradesh</td>\n",
       "      <td>BE/B.Tech</td>\n",
       "      <td>8.3</td>\n",
       "      <td>489</td>\n",
       "      <td>50200</td>\n",
       "    </tr>\n",
       "  </tbody>\n",
       "</table>\n",
       "<p>439 rows × 7 columns</p>\n",
       "</div>"
      ],
      "text/plain": [
       "                                          College_Name Location  \\\n",
       "0    IIT Madras - Indian Institute of Technology - ...  Chennai   \n",
       "1                   Indian Maritime University - [IMU]  Chennai   \n",
       "2                 Saveetha Engineering College - [SEC]  Chennai   \n",
       "3    B.S. Abdur Rahman Crescent Institute of Scienc...  Chennai   \n",
       "4               Saveetha School of Engineering - [SSE]  Chennai   \n",
       "..                                                 ...      ...   \n",
       "434  Malineni Perumallu Educational Society's Group...   Guntur   \n",
       "435          Chintalapudi Engineering College - [CECG]   Guntur   \n",
       "436  Vignan's Lara Institute of Technology & Scienc...   Guntur   \n",
       "437  Velaga Nageswara Rao College of Engineering - ...   Guntur   \n",
       "438  G V R & S College of Engineering & Technology ...   Guntur   \n",
       "\n",
       "               State     Course  Ratings  No of Reviews Course_Fee  \n",
       "0         Tamil Nadu  BE/B.Tech      8.7            246     209550  \n",
       "1         Tamil Nadu  BE/B.Tech      8.7            246     105000  \n",
       "2         Tamil Nadu  BE/B.Tech      8.7            246      85000  \n",
       "3         Tamil Nadu  BE/B.Tech      8.7            246      85000  \n",
       "4         Tamil Nadu  BE/B.Tech      8.7            246      45000  \n",
       "..               ...        ...      ...            ...        ...  \n",
       "434   Andhra Pradesh  BE/B.Tech      8.3            489      35000  \n",
       "435   Andhra Pradesh  BE/B.Tech      8.3            489      35000  \n",
       "436   Andhra Pradesh  BE/B.Tech      8.3            489      76000  \n",
       "437   Andhra Pradesh  BE/B.Tech      8.3            489      35000  \n",
       "438   Andhra Pradesh  BE/B.Tech      8.3            489      50200  \n",
       "\n",
       "[439 rows x 7 columns]"
      ]
     },
     "execution_count": 128,
     "metadata": {},
     "output_type": "execute_result"
    }
   ],
   "source": [
    "dfcol"
   ]
  },
  {
   "cell_type": "code",
   "execution_count": 129,
   "id": "81d0d0aa",
   "metadata": {},
   "outputs": [],
   "source": [
    "dfcol[\"Course_Fee\"]=dfcol[\"Course_Fee\"].astype(int)"
   ]
  },
  {
   "cell_type": "code",
   "execution_count": 130,
   "id": "ba4caeb2",
   "metadata": {},
   "outputs": [
    {
     "data": {
      "text/html": [
       "<div>\n",
       "<style scoped>\n",
       "    .dataframe tbody tr th:only-of-type {\n",
       "        vertical-align: middle;\n",
       "    }\n",
       "\n",
       "    .dataframe tbody tr th {\n",
       "        vertical-align: top;\n",
       "    }\n",
       "\n",
       "    .dataframe thead th {\n",
       "        text-align: right;\n",
       "    }\n",
       "</style>\n",
       "<table border=\"1\" class=\"dataframe\">\n",
       "  <thead>\n",
       "    <tr style=\"text-align: right;\">\n",
       "      <th></th>\n",
       "      <th>College_Name</th>\n",
       "      <th>Location</th>\n",
       "      <th>State</th>\n",
       "      <th>Course</th>\n",
       "      <th>Ratings</th>\n",
       "      <th>No of Reviews</th>\n",
       "      <th>Course_Fee</th>\n",
       "    </tr>\n",
       "  </thead>\n",
       "  <tbody>\n",
       "    <tr>\n",
       "      <th>0</th>\n",
       "      <td>IIT Madras - Indian Institute of Technology - ...</td>\n",
       "      <td>Chennai</td>\n",
       "      <td>Tamil Nadu</td>\n",
       "      <td>BE/B.Tech</td>\n",
       "      <td>8.7</td>\n",
       "      <td>246</td>\n",
       "      <td>209550</td>\n",
       "    </tr>\n",
       "    <tr>\n",
       "      <th>1</th>\n",
       "      <td>Indian Maritime University - [IMU]</td>\n",
       "      <td>Chennai</td>\n",
       "      <td>Tamil Nadu</td>\n",
       "      <td>BE/B.Tech</td>\n",
       "      <td>8.7</td>\n",
       "      <td>246</td>\n",
       "      <td>105000</td>\n",
       "    </tr>\n",
       "    <tr>\n",
       "      <th>2</th>\n",
       "      <td>Saveetha Engineering College - [SEC]</td>\n",
       "      <td>Chennai</td>\n",
       "      <td>Tamil Nadu</td>\n",
       "      <td>BE/B.Tech</td>\n",
       "      <td>8.7</td>\n",
       "      <td>246</td>\n",
       "      <td>85000</td>\n",
       "    </tr>\n",
       "    <tr>\n",
       "      <th>3</th>\n",
       "      <td>B.S. Abdur Rahman Crescent Institute of Scienc...</td>\n",
       "      <td>Chennai</td>\n",
       "      <td>Tamil Nadu</td>\n",
       "      <td>BE/B.Tech</td>\n",
       "      <td>8.7</td>\n",
       "      <td>246</td>\n",
       "      <td>85000</td>\n",
       "    </tr>\n",
       "    <tr>\n",
       "      <th>4</th>\n",
       "      <td>Saveetha School of Engineering - [SSE]</td>\n",
       "      <td>Chennai</td>\n",
       "      <td>Tamil Nadu</td>\n",
       "      <td>BE/B.Tech</td>\n",
       "      <td>8.7</td>\n",
       "      <td>246</td>\n",
       "      <td>45000</td>\n",
       "    </tr>\n",
       "    <tr>\n",
       "      <th>...</th>\n",
       "      <td>...</td>\n",
       "      <td>...</td>\n",
       "      <td>...</td>\n",
       "      <td>...</td>\n",
       "      <td>...</td>\n",
       "      <td>...</td>\n",
       "      <td>...</td>\n",
       "    </tr>\n",
       "    <tr>\n",
       "      <th>434</th>\n",
       "      <td>Malineni Perumallu Educational Society's Group...</td>\n",
       "      <td>Guntur</td>\n",
       "      <td>Andhra Pradesh</td>\n",
       "      <td>BE/B.Tech</td>\n",
       "      <td>8.3</td>\n",
       "      <td>489</td>\n",
       "      <td>35000</td>\n",
       "    </tr>\n",
       "    <tr>\n",
       "      <th>435</th>\n",
       "      <td>Chintalapudi Engineering College - [CECG]</td>\n",
       "      <td>Guntur</td>\n",
       "      <td>Andhra Pradesh</td>\n",
       "      <td>BE/B.Tech</td>\n",
       "      <td>8.3</td>\n",
       "      <td>489</td>\n",
       "      <td>35000</td>\n",
       "    </tr>\n",
       "    <tr>\n",
       "      <th>436</th>\n",
       "      <td>Vignan's Lara Institute of Technology &amp; Scienc...</td>\n",
       "      <td>Guntur</td>\n",
       "      <td>Andhra Pradesh</td>\n",
       "      <td>BE/B.Tech</td>\n",
       "      <td>8.3</td>\n",
       "      <td>489</td>\n",
       "      <td>76000</td>\n",
       "    </tr>\n",
       "    <tr>\n",
       "      <th>437</th>\n",
       "      <td>Velaga Nageswara Rao College of Engineering - ...</td>\n",
       "      <td>Guntur</td>\n",
       "      <td>Andhra Pradesh</td>\n",
       "      <td>BE/B.Tech</td>\n",
       "      <td>8.3</td>\n",
       "      <td>489</td>\n",
       "      <td>35000</td>\n",
       "    </tr>\n",
       "    <tr>\n",
       "      <th>438</th>\n",
       "      <td>G V R &amp; S College of Engineering &amp; Technology ...</td>\n",
       "      <td>Guntur</td>\n",
       "      <td>Andhra Pradesh</td>\n",
       "      <td>BE/B.Tech</td>\n",
       "      <td>8.3</td>\n",
       "      <td>489</td>\n",
       "      <td>50200</td>\n",
       "    </tr>\n",
       "  </tbody>\n",
       "</table>\n",
       "<p>439 rows × 7 columns</p>\n",
       "</div>"
      ],
      "text/plain": [
       "                                          College_Name Location  \\\n",
       "0    IIT Madras - Indian Institute of Technology - ...  Chennai   \n",
       "1                   Indian Maritime University - [IMU]  Chennai   \n",
       "2                 Saveetha Engineering College - [SEC]  Chennai   \n",
       "3    B.S. Abdur Rahman Crescent Institute of Scienc...  Chennai   \n",
       "4               Saveetha School of Engineering - [SSE]  Chennai   \n",
       "..                                                 ...      ...   \n",
       "434  Malineni Perumallu Educational Society's Group...   Guntur   \n",
       "435          Chintalapudi Engineering College - [CECG]   Guntur   \n",
       "436  Vignan's Lara Institute of Technology & Scienc...   Guntur   \n",
       "437  Velaga Nageswara Rao College of Engineering - ...   Guntur   \n",
       "438  G V R & S College of Engineering & Technology ...   Guntur   \n",
       "\n",
       "               State     Course  Ratings  No of Reviews  Course_Fee  \n",
       "0         Tamil Nadu  BE/B.Tech      8.7            246      209550  \n",
       "1         Tamil Nadu  BE/B.Tech      8.7            246      105000  \n",
       "2         Tamil Nadu  BE/B.Tech      8.7            246       85000  \n",
       "3         Tamil Nadu  BE/B.Tech      8.7            246       85000  \n",
       "4         Tamil Nadu  BE/B.Tech      8.7            246       45000  \n",
       "..               ...        ...      ...            ...         ...  \n",
       "434   Andhra Pradesh  BE/B.Tech      8.3            489       35000  \n",
       "435   Andhra Pradesh  BE/B.Tech      8.3            489       35000  \n",
       "436   Andhra Pradesh  BE/B.Tech      8.3            489       76000  \n",
       "437   Andhra Pradesh  BE/B.Tech      8.3            489       35000  \n",
       "438   Andhra Pradesh  BE/B.Tech      8.3            489       50200  \n",
       "\n",
       "[439 rows x 7 columns]"
      ]
     },
     "execution_count": 130,
     "metadata": {},
     "output_type": "execute_result"
    }
   ],
   "source": [
    "dfcol"
   ]
  },
  {
   "cell_type": "markdown",
   "id": "e8c8a3d3",
   "metadata": {},
   "source": [
    "### Created one extra column with the name of RatingSummary based on Ratings columns, by using map lamdba function"
   ]
  },
  {
   "cell_type": "code",
   "execution_count": 131,
   "id": "a43780b3",
   "metadata": {},
   "outputs": [],
   "source": [
    "dfcol[\"RatingSummary\"]=dfcol[\"Ratings\"].map(lambda x : \"Excellent\" if x>8.5 else \"Good\" if x>8.0 else \"Fair\")"
   ]
  },
  {
   "cell_type": "code",
   "execution_count": 132,
   "id": "70ef185e",
   "metadata": {},
   "outputs": [
    {
     "data": {
      "text/html": [
       "<div>\n",
       "<style scoped>\n",
       "    .dataframe tbody tr th:only-of-type {\n",
       "        vertical-align: middle;\n",
       "    }\n",
       "\n",
       "    .dataframe tbody tr th {\n",
       "        vertical-align: top;\n",
       "    }\n",
       "\n",
       "    .dataframe thead th {\n",
       "        text-align: right;\n",
       "    }\n",
       "</style>\n",
       "<table border=\"1\" class=\"dataframe\">\n",
       "  <thead>\n",
       "    <tr style=\"text-align: right;\">\n",
       "      <th></th>\n",
       "      <th>College_Name</th>\n",
       "      <th>Location</th>\n",
       "      <th>State</th>\n",
       "      <th>Course</th>\n",
       "      <th>Ratings</th>\n",
       "      <th>No of Reviews</th>\n",
       "      <th>Course_Fee</th>\n",
       "      <th>RatingSummary</th>\n",
       "    </tr>\n",
       "  </thead>\n",
       "  <tbody>\n",
       "    <tr>\n",
       "      <th>0</th>\n",
       "      <td>IIT Madras - Indian Institute of Technology - ...</td>\n",
       "      <td>Chennai</td>\n",
       "      <td>Tamil Nadu</td>\n",
       "      <td>BE/B.Tech</td>\n",
       "      <td>8.7</td>\n",
       "      <td>246</td>\n",
       "      <td>209550</td>\n",
       "      <td>Excellent</td>\n",
       "    </tr>\n",
       "    <tr>\n",
       "      <th>1</th>\n",
       "      <td>Indian Maritime University - [IMU]</td>\n",
       "      <td>Chennai</td>\n",
       "      <td>Tamil Nadu</td>\n",
       "      <td>BE/B.Tech</td>\n",
       "      <td>8.7</td>\n",
       "      <td>246</td>\n",
       "      <td>105000</td>\n",
       "      <td>Excellent</td>\n",
       "    </tr>\n",
       "    <tr>\n",
       "      <th>2</th>\n",
       "      <td>Saveetha Engineering College - [SEC]</td>\n",
       "      <td>Chennai</td>\n",
       "      <td>Tamil Nadu</td>\n",
       "      <td>BE/B.Tech</td>\n",
       "      <td>8.7</td>\n",
       "      <td>246</td>\n",
       "      <td>85000</td>\n",
       "      <td>Excellent</td>\n",
       "    </tr>\n",
       "    <tr>\n",
       "      <th>3</th>\n",
       "      <td>B.S. Abdur Rahman Crescent Institute of Scienc...</td>\n",
       "      <td>Chennai</td>\n",
       "      <td>Tamil Nadu</td>\n",
       "      <td>BE/B.Tech</td>\n",
       "      <td>8.7</td>\n",
       "      <td>246</td>\n",
       "      <td>85000</td>\n",
       "      <td>Excellent</td>\n",
       "    </tr>\n",
       "    <tr>\n",
       "      <th>4</th>\n",
       "      <td>Saveetha School of Engineering - [SSE]</td>\n",
       "      <td>Chennai</td>\n",
       "      <td>Tamil Nadu</td>\n",
       "      <td>BE/B.Tech</td>\n",
       "      <td>8.7</td>\n",
       "      <td>246</td>\n",
       "      <td>45000</td>\n",
       "      <td>Excellent</td>\n",
       "    </tr>\n",
       "    <tr>\n",
       "      <th>...</th>\n",
       "      <td>...</td>\n",
       "      <td>...</td>\n",
       "      <td>...</td>\n",
       "      <td>...</td>\n",
       "      <td>...</td>\n",
       "      <td>...</td>\n",
       "      <td>...</td>\n",
       "      <td>...</td>\n",
       "    </tr>\n",
       "    <tr>\n",
       "      <th>434</th>\n",
       "      <td>Malineni Perumallu Educational Society's Group...</td>\n",
       "      <td>Guntur</td>\n",
       "      <td>Andhra Pradesh</td>\n",
       "      <td>BE/B.Tech</td>\n",
       "      <td>8.3</td>\n",
       "      <td>489</td>\n",
       "      <td>35000</td>\n",
       "      <td>Good</td>\n",
       "    </tr>\n",
       "    <tr>\n",
       "      <th>435</th>\n",
       "      <td>Chintalapudi Engineering College - [CECG]</td>\n",
       "      <td>Guntur</td>\n",
       "      <td>Andhra Pradesh</td>\n",
       "      <td>BE/B.Tech</td>\n",
       "      <td>8.3</td>\n",
       "      <td>489</td>\n",
       "      <td>35000</td>\n",
       "      <td>Good</td>\n",
       "    </tr>\n",
       "    <tr>\n",
       "      <th>436</th>\n",
       "      <td>Vignan's Lara Institute of Technology &amp; Scienc...</td>\n",
       "      <td>Guntur</td>\n",
       "      <td>Andhra Pradesh</td>\n",
       "      <td>BE/B.Tech</td>\n",
       "      <td>8.3</td>\n",
       "      <td>489</td>\n",
       "      <td>76000</td>\n",
       "      <td>Good</td>\n",
       "    </tr>\n",
       "    <tr>\n",
       "      <th>437</th>\n",
       "      <td>Velaga Nageswara Rao College of Engineering - ...</td>\n",
       "      <td>Guntur</td>\n",
       "      <td>Andhra Pradesh</td>\n",
       "      <td>BE/B.Tech</td>\n",
       "      <td>8.3</td>\n",
       "      <td>489</td>\n",
       "      <td>35000</td>\n",
       "      <td>Good</td>\n",
       "    </tr>\n",
       "    <tr>\n",
       "      <th>438</th>\n",
       "      <td>G V R &amp; S College of Engineering &amp; Technology ...</td>\n",
       "      <td>Guntur</td>\n",
       "      <td>Andhra Pradesh</td>\n",
       "      <td>BE/B.Tech</td>\n",
       "      <td>8.3</td>\n",
       "      <td>489</td>\n",
       "      <td>50200</td>\n",
       "      <td>Good</td>\n",
       "    </tr>\n",
       "  </tbody>\n",
       "</table>\n",
       "<p>439 rows × 8 columns</p>\n",
       "</div>"
      ],
      "text/plain": [
       "                                          College_Name Location  \\\n",
       "0    IIT Madras - Indian Institute of Technology - ...  Chennai   \n",
       "1                   Indian Maritime University - [IMU]  Chennai   \n",
       "2                 Saveetha Engineering College - [SEC]  Chennai   \n",
       "3    B.S. Abdur Rahman Crescent Institute of Scienc...  Chennai   \n",
       "4               Saveetha School of Engineering - [SSE]  Chennai   \n",
       "..                                                 ...      ...   \n",
       "434  Malineni Perumallu Educational Society's Group...   Guntur   \n",
       "435          Chintalapudi Engineering College - [CECG]   Guntur   \n",
       "436  Vignan's Lara Institute of Technology & Scienc...   Guntur   \n",
       "437  Velaga Nageswara Rao College of Engineering - ...   Guntur   \n",
       "438  G V R & S College of Engineering & Technology ...   Guntur   \n",
       "\n",
       "               State     Course  Ratings  No of Reviews  Course_Fee  \\\n",
       "0         Tamil Nadu  BE/B.Tech      8.7            246      209550   \n",
       "1         Tamil Nadu  BE/B.Tech      8.7            246      105000   \n",
       "2         Tamil Nadu  BE/B.Tech      8.7            246       85000   \n",
       "3         Tamil Nadu  BE/B.Tech      8.7            246       85000   \n",
       "4         Tamil Nadu  BE/B.Tech      8.7            246       45000   \n",
       "..               ...        ...      ...            ...         ...   \n",
       "434   Andhra Pradesh  BE/B.Tech      8.3            489       35000   \n",
       "435   Andhra Pradesh  BE/B.Tech      8.3            489       35000   \n",
       "436   Andhra Pradesh  BE/B.Tech      8.3            489       76000   \n",
       "437   Andhra Pradesh  BE/B.Tech      8.3            489       35000   \n",
       "438   Andhra Pradesh  BE/B.Tech      8.3            489       50200   \n",
       "\n",
       "    RatingSummary  \n",
       "0       Excellent  \n",
       "1       Excellent  \n",
       "2       Excellent  \n",
       "3       Excellent  \n",
       "4       Excellent  \n",
       "..            ...  \n",
       "434          Good  \n",
       "435          Good  \n",
       "436          Good  \n",
       "437          Good  \n",
       "438          Good  \n",
       "\n",
       "[439 rows x 8 columns]"
      ]
     },
     "execution_count": 132,
     "metadata": {},
     "output_type": "execute_result"
    }
   ],
   "source": [
    "dfcol"
   ]
  },
  {
   "cell_type": "code",
   "execution_count": 133,
   "id": "a5b81e63",
   "metadata": {},
   "outputs": [
    {
     "data": {
      "text/plain": [
       "Index(['College_Name', 'Location', 'State', 'Course', 'Ratings',\n",
       "       'No of Reviews', 'Course_Fee', 'RatingSummary'],\n",
       "      dtype='object')"
      ]
     },
     "execution_count": 133,
     "metadata": {},
     "output_type": "execute_result"
    }
   ],
   "source": [
    "dfcol.columns"
   ]
  },
  {
   "cell_type": "markdown",
   "id": "d7d1578e",
   "metadata": {},
   "source": [
    "### Changed the columns order by using reindex function."
   ]
  },
  {
   "cell_type": "code",
   "execution_count": 134,
   "id": "aac036b0",
   "metadata": {},
   "outputs": [],
   "source": [
    "col=dfcol.reindex(columns=['College_Name', 'Location', 'State', 'Course','Ratings', 'No of Reviews','RatingSummary','Course_Fee'])"
   ]
  },
  {
   "cell_type": "code",
   "execution_count": 135,
   "id": "7243e4d5",
   "metadata": {},
   "outputs": [
    {
     "data": {
      "text/html": [
       "<div>\n",
       "<style scoped>\n",
       "    .dataframe tbody tr th:only-of-type {\n",
       "        vertical-align: middle;\n",
       "    }\n",
       "\n",
       "    .dataframe tbody tr th {\n",
       "        vertical-align: top;\n",
       "    }\n",
       "\n",
       "    .dataframe thead th {\n",
       "        text-align: right;\n",
       "    }\n",
       "</style>\n",
       "<table border=\"1\" class=\"dataframe\">\n",
       "  <thead>\n",
       "    <tr style=\"text-align: right;\">\n",
       "      <th></th>\n",
       "      <th>College_Name</th>\n",
       "      <th>Location</th>\n",
       "      <th>State</th>\n",
       "      <th>Course</th>\n",
       "      <th>Ratings</th>\n",
       "      <th>No of Reviews</th>\n",
       "      <th>RatingSummary</th>\n",
       "      <th>Course_Fee</th>\n",
       "    </tr>\n",
       "  </thead>\n",
       "  <tbody>\n",
       "    <tr>\n",
       "      <th>0</th>\n",
       "      <td>IIT Madras - Indian Institute of Technology - ...</td>\n",
       "      <td>Chennai</td>\n",
       "      <td>Tamil Nadu</td>\n",
       "      <td>BE/B.Tech</td>\n",
       "      <td>8.7</td>\n",
       "      <td>246</td>\n",
       "      <td>Excellent</td>\n",
       "      <td>209550</td>\n",
       "    </tr>\n",
       "    <tr>\n",
       "      <th>1</th>\n",
       "      <td>Indian Maritime University - [IMU]</td>\n",
       "      <td>Chennai</td>\n",
       "      <td>Tamil Nadu</td>\n",
       "      <td>BE/B.Tech</td>\n",
       "      <td>8.7</td>\n",
       "      <td>246</td>\n",
       "      <td>Excellent</td>\n",
       "      <td>105000</td>\n",
       "    </tr>\n",
       "    <tr>\n",
       "      <th>2</th>\n",
       "      <td>Saveetha Engineering College - [SEC]</td>\n",
       "      <td>Chennai</td>\n",
       "      <td>Tamil Nadu</td>\n",
       "      <td>BE/B.Tech</td>\n",
       "      <td>8.7</td>\n",
       "      <td>246</td>\n",
       "      <td>Excellent</td>\n",
       "      <td>85000</td>\n",
       "    </tr>\n",
       "    <tr>\n",
       "      <th>3</th>\n",
       "      <td>B.S. Abdur Rahman Crescent Institute of Scienc...</td>\n",
       "      <td>Chennai</td>\n",
       "      <td>Tamil Nadu</td>\n",
       "      <td>BE/B.Tech</td>\n",
       "      <td>8.7</td>\n",
       "      <td>246</td>\n",
       "      <td>Excellent</td>\n",
       "      <td>85000</td>\n",
       "    </tr>\n",
       "    <tr>\n",
       "      <th>4</th>\n",
       "      <td>Saveetha School of Engineering - [SSE]</td>\n",
       "      <td>Chennai</td>\n",
       "      <td>Tamil Nadu</td>\n",
       "      <td>BE/B.Tech</td>\n",
       "      <td>8.7</td>\n",
       "      <td>246</td>\n",
       "      <td>Excellent</td>\n",
       "      <td>45000</td>\n",
       "    </tr>\n",
       "    <tr>\n",
       "      <th>...</th>\n",
       "      <td>...</td>\n",
       "      <td>...</td>\n",
       "      <td>...</td>\n",
       "      <td>...</td>\n",
       "      <td>...</td>\n",
       "      <td>...</td>\n",
       "      <td>...</td>\n",
       "      <td>...</td>\n",
       "    </tr>\n",
       "    <tr>\n",
       "      <th>434</th>\n",
       "      <td>Malineni Perumallu Educational Society's Group...</td>\n",
       "      <td>Guntur</td>\n",
       "      <td>Andhra Pradesh</td>\n",
       "      <td>BE/B.Tech</td>\n",
       "      <td>8.3</td>\n",
       "      <td>489</td>\n",
       "      <td>Good</td>\n",
       "      <td>35000</td>\n",
       "    </tr>\n",
       "    <tr>\n",
       "      <th>435</th>\n",
       "      <td>Chintalapudi Engineering College - [CECG]</td>\n",
       "      <td>Guntur</td>\n",
       "      <td>Andhra Pradesh</td>\n",
       "      <td>BE/B.Tech</td>\n",
       "      <td>8.3</td>\n",
       "      <td>489</td>\n",
       "      <td>Good</td>\n",
       "      <td>35000</td>\n",
       "    </tr>\n",
       "    <tr>\n",
       "      <th>436</th>\n",
       "      <td>Vignan's Lara Institute of Technology &amp; Scienc...</td>\n",
       "      <td>Guntur</td>\n",
       "      <td>Andhra Pradesh</td>\n",
       "      <td>BE/B.Tech</td>\n",
       "      <td>8.3</td>\n",
       "      <td>489</td>\n",
       "      <td>Good</td>\n",
       "      <td>76000</td>\n",
       "    </tr>\n",
       "    <tr>\n",
       "      <th>437</th>\n",
       "      <td>Velaga Nageswara Rao College of Engineering - ...</td>\n",
       "      <td>Guntur</td>\n",
       "      <td>Andhra Pradesh</td>\n",
       "      <td>BE/B.Tech</td>\n",
       "      <td>8.3</td>\n",
       "      <td>489</td>\n",
       "      <td>Good</td>\n",
       "      <td>35000</td>\n",
       "    </tr>\n",
       "    <tr>\n",
       "      <th>438</th>\n",
       "      <td>G V R &amp; S College of Engineering &amp; Technology ...</td>\n",
       "      <td>Guntur</td>\n",
       "      <td>Andhra Pradesh</td>\n",
       "      <td>BE/B.Tech</td>\n",
       "      <td>8.3</td>\n",
       "      <td>489</td>\n",
       "      <td>Good</td>\n",
       "      <td>50200</td>\n",
       "    </tr>\n",
       "  </tbody>\n",
       "</table>\n",
       "<p>439 rows × 8 columns</p>\n",
       "</div>"
      ],
      "text/plain": [
       "                                          College_Name Location  \\\n",
       "0    IIT Madras - Indian Institute of Technology - ...  Chennai   \n",
       "1                   Indian Maritime University - [IMU]  Chennai   \n",
       "2                 Saveetha Engineering College - [SEC]  Chennai   \n",
       "3    B.S. Abdur Rahman Crescent Institute of Scienc...  Chennai   \n",
       "4               Saveetha School of Engineering - [SSE]  Chennai   \n",
       "..                                                 ...      ...   \n",
       "434  Malineni Perumallu Educational Society's Group...   Guntur   \n",
       "435          Chintalapudi Engineering College - [CECG]   Guntur   \n",
       "436  Vignan's Lara Institute of Technology & Scienc...   Guntur   \n",
       "437  Velaga Nageswara Rao College of Engineering - ...   Guntur   \n",
       "438  G V R & S College of Engineering & Technology ...   Guntur   \n",
       "\n",
       "               State     Course  Ratings  No of Reviews RatingSummary  \\\n",
       "0         Tamil Nadu  BE/B.Tech      8.7            246     Excellent   \n",
       "1         Tamil Nadu  BE/B.Tech      8.7            246     Excellent   \n",
       "2         Tamil Nadu  BE/B.Tech      8.7            246     Excellent   \n",
       "3         Tamil Nadu  BE/B.Tech      8.7            246     Excellent   \n",
       "4         Tamil Nadu  BE/B.Tech      8.7            246     Excellent   \n",
       "..               ...        ...      ...            ...           ...   \n",
       "434   Andhra Pradesh  BE/B.Tech      8.3            489          Good   \n",
       "435   Andhra Pradesh  BE/B.Tech      8.3            489          Good   \n",
       "436   Andhra Pradesh  BE/B.Tech      8.3            489          Good   \n",
       "437   Andhra Pradesh  BE/B.Tech      8.3            489          Good   \n",
       "438   Andhra Pradesh  BE/B.Tech      8.3            489          Good   \n",
       "\n",
       "     Course_Fee  \n",
       "0        209550  \n",
       "1        105000  \n",
       "2         85000  \n",
       "3         85000  \n",
       "4         45000  \n",
       "..          ...  \n",
       "434       35000  \n",
       "435       35000  \n",
       "436       76000  \n",
       "437       35000  \n",
       "438       50200  \n",
       "\n",
       "[439 rows x 8 columns]"
      ]
     },
     "execution_count": 135,
     "metadata": {},
     "output_type": "execute_result"
    }
   ],
   "source": [
    "col"
   ]
  },
  {
   "cell_type": "markdown",
   "id": "68478c01",
   "metadata": {},
   "source": [
    "## Outliers"
   ]
  },
  {
   "cell_type": "code",
   "execution_count": 136,
   "id": "fbfcfc28",
   "metadata": {},
   "outputs": [
    {
     "data": {
      "image/png": "[encoded data removed]",
      "text/plain": [
       "<Figure size 640x480 with 1 Axes>"
      ]
     },
     "metadata": {},
     "output_type": "display_data"
    }
   ],
   "source": [
    "plt.boxplot(dfcol[\"Ratings\"])\n",
    "plt.show()"
   ]
  },
  {
   "cell_type": "markdown",
   "id": "1644fdcc",
   "metadata": {},
   "source": [
    "### From the above boxplot, ratings has no outliers."
   ]
  },
  {
   "cell_type": "code",
   "execution_count": 137,
   "id": "795cf0b3",
   "metadata": {},
   "outputs": [
    {
     "data": {
      "image/png": "[encoded data removed]",
      "text/plain": [
       "<Figure size 640x480 with 1 Axes>"
      ]
     },
     "metadata": {},
     "output_type": "display_data"
    }
   ],
   "source": [
    "plt.boxplot(dfcol[\"No of Reviews\"])\n",
    "plt.show()"
   ]
  },
  {
   "cell_type": "markdown",
   "id": "51da47fd",
   "metadata": {},
   "source": [
    "### from the above boxplot, Reviews has a single outlier.we not detect the outlier, Because no of reviews may can be 1 to n number."
   ]
  },
  {
   "cell_type": "code",
   "execution_count": 138,
   "id": "52c4646e",
   "metadata": {},
   "outputs": [
    {
     "data": {
      "image/png": "[encoded data removed]",
      "text/plain": [
       "<Figure size 640x480 with 1 Axes>"
      ]
     },
     "metadata": {},
     "output_type": "display_data"
    }
   ],
   "source": [
    "plt.boxplot(dfcol[\"Course_Fee\"])\n",
    "plt.show()"
   ]
  },
  {
   "cell_type": "markdown",
   "id": "2a6f429f",
   "metadata": {},
   "source": [
    "### From the above boxplot, the Course_Fee column has more outliers.However, it may be challenging to detect these outliers as the course fee can vary based on the reputation and demand of the course in different cities."
   ]
  },
  {
   "cell_type": "markdown",
   "id": "2f13921b",
   "metadata": {},
   "source": [
    "### Univarient"
   ]
  },
  {
   "cell_type": "code",
   "execution_count": 139,
   "id": "67e51b83",
   "metadata": {},
   "outputs": [
    {
     "data": {
      "image/png": "[encoded data removed]",
      "text/plain": [
       "<Figure size 640x480 with 1 Axes>"
      ]
     },
     "metadata": {},
     "output_type": "display_data"
    }
   ],
   "source": [
    "plt.hist(dfcol[\"No of Reviews\"])\n",
    "plt.show()"
   ]
  },
  {
   "cell_type": "markdown",
   "id": "53350c5f",
   "metadata": {},
   "source": [
    "### from the above histo graph reviews are more in between 1-100 as compared to others."
   ]
  },
  {
   "cell_type": "code",
   "execution_count": 140,
   "id": "1508df0d",
   "metadata": {},
   "outputs": [
    {
     "data": {
      "image/png": "[encoded data removed]",
      "text/plain": [
       "<Figure size 640x480 with 1 Axes>"
      ]
     },
     "metadata": {},
     "output_type": "display_data"
    }
   ],
   "source": [
    "plt.hist(dfcol[\"Ratings\"])\n",
    "plt.show()"
   ]
  },
  {
   "cell_type": "markdown",
   "id": "9edd6f47",
   "metadata": {},
   "source": [
    "### from the above histo graph distribution of ratings is  high in between 8.2 to 8.4 and low are in between 8.0 to 8.2"
   ]
  },
  {
   "cell_type": "code",
   "execution_count": 141,
   "id": "74863ef4",
   "metadata": {},
   "outputs": [
    {
     "data": {
      "text/plain": [
       "<AxesSubplot:xlabel='Course_Fee', ylabel='Density'>"
      ]
     },
     "execution_count": 141,
     "metadata": {},
     "output_type": "execute_result"
    },
    {
     "data": {
      "image/png": "[encoded data removed]",
      "text/plain": [
       "<Figure size 640x480 with 1 Axes>"
      ]
     },
     "metadata": {},
     "output_type": "display_data"
    }
   ],
   "source": [
    "sns.distplot(dfcol[\"Course_Fee\"],bins=5)"
   ]
  },
  {
   "cell_type": "markdown",
   "id": "bbaba748",
   "metadata": {},
   "source": [
    "### from the above density graph more number coursefee is in between  of 1-10 lakhs."
   ]
  },
  {
   "cell_type": "code",
   "execution_count": 142,
   "id": "980b63da",
   "metadata": {},
   "outputs": [
    {
     "data": {
      "image/png": "[encoded data removed]",
      "text/plain": [
       "<Figure size 640x480 with 1 Axes>"
      ]
     },
     "metadata": {},
     "output_type": "display_data"
    }
   ],
   "source": [
    "plt.pie(dfcol[\"RatingSummary\"].value_counts(), explode=[0.04,0.03,0.02], autopct=\"%0.2F%%\",labels=dfcol[\"RatingSummary\"].unique())\n",
    "plt.show()"
   ]
  },
  {
   "cell_type": "markdown",
   "id": "759ad4ca",
   "metadata": {},
   "source": [
    "### from the above piechart most of the colleges are Excellent and follwed by Fair and few are Good."
   ]
  },
  {
   "cell_type": "code",
   "execution_count": 143,
   "id": "23a29d9a",
   "metadata": {},
   "outputs": [
    {
     "data": {
      "image/png": "[encoded data removed]",
      "text/plain": [
       "<Figure size 640x480 with 1 Axes>"
      ]
     },
     "metadata": {},
     "output_type": "display_data"
    }
   ],
   "source": [
    "plt.hist(dfcol[\"State\"],bins=12,rwidth=0.5,ec=\"red\",orientation='horizontal')\n",
    "plt.show()"
   ]
  },
  {
   "cell_type": "markdown",
   "id": "002bba46",
   "metadata": {},
   "source": [
    "### from the above histo graph highest colleges are in maharashtra,next highest are Tamil Nadu,Madhya pradesh And lowest colleges in uttarPradesh and second lowest is rajasthan,West bengal.\n"
   ]
  },
  {
   "cell_type": "markdown",
   "id": "09f7bc93",
   "metadata": {},
   "source": [
    "### Byvarient"
   ]
  },
  {
   "cell_type": "code",
   "execution_count": 144,
   "id": "52224ecd",
   "metadata": {},
   "outputs": [
    {
     "data": {
      "text/plain": [
       "<AxesSubplot:xlabel='Course_Fee', ylabel='State'>"
      ]
     },
     "execution_count": 144,
     "metadata": {},
     "output_type": "execute_result"
    },
    {
     "data": {
      "image/png": "[encoded data removed]",
      "text/plain": [
       "<Figure size 640x480 with 1 Axes>"
      ]
     },
     "metadata": {},
     "output_type": "display_data"
    }
   ],
   "source": [
    "sns.barplot(y = dfcol[\"State\"], x=dfcol[\"Course_Fee\"],errwidth=1)"
   ]
  },
  {
   "cell_type": "markdown",
   "id": "a9b359d7",
   "metadata": {},
   "source": [
    "### From the above barplot karnataka has high course_fee and andhrapradesh has low course_fee"
   ]
  },
  {
   "cell_type": "code",
   "execution_count": 145,
   "id": "e7d9e7a5",
   "metadata": {},
   "outputs": [
    {
     "data": {
      "text/plain": [
       "<AxesSubplot:xlabel='No of Reviews', ylabel='Course_Fee'>"
      ]
     },
     "execution_count": 145,
     "metadata": {},
     "output_type": "execute_result"
    },
    {
     "data": {
      "image/png": "[encoded data removed]",
      "text/plain": [
       "<Figure size 1600x800 with 1 Axes>"
      ]
     },
     "metadata": {},
     "output_type": "display_data"
    }
   ],
   "source": [
    "plt.figure(figsize=(16,8))\n",
    "sns.scatterplot(x=\"No of Reviews\", y=\"Course_Fee\", data = dfcol, hue=\"RatingSummary\")"
   ]
  },
  {
   "cell_type": "markdown",
   "id": "f0311c8d",
   "metadata": {},
   "source": [
    "### from the above Scatterplot we compare the two columns no. of reviews and Course_Fee "
   ]
  },
  {
   "cell_type": "code",
   "execution_count": 146,
   "id": "b5041951",
   "metadata": {},
   "outputs": [
    {
     "data": {
      "text/plain": [
       "<AxesSubplot:xlabel='Ratings', ylabel='Course'>"
      ]
     },
     "execution_count": 146,
     "metadata": {},
     "output_type": "execute_result"
    },
    {
     "data": {
      "image/png": "[encoded data removed]",
      "text/plain": [
       "<Figure size 640x480 with 1 Axes>"
      ]
     },
     "metadata": {},
     "output_type": "display_data"
    }
   ],
   "source": [
    "sns.boxplot(x = \"Ratings\", y = \"Course\", data = dfcol,showmeans=True)"
   ]
  },
  {
   "cell_type": "markdown",
   "id": "a779df85",
   "metadata": {},
   "source": [
    "### \"The boxplot illustrates that the 'Diploma in Engineering',program has only one rating below 8.0, while the 'PG Diploma in Engineering',program has the highest rating of 8.8 among all programs.\""
   ]
  },
  {
   "cell_type": "markdown",
   "id": "59aab65b",
   "metadata": {},
   "source": [
    "### MultiVarient"
   ]
  },
  {
   "cell_type": "code",
   "execution_count": 147,
   "id": "218edf61",
   "metadata": {},
   "outputs": [
    {
     "data": {
      "text/plain": [
       "<seaborn.axisgrid.JointGrid at 0x17327a1aac0>"
      ]
     },
     "execution_count": 147,
     "metadata": {},
     "output_type": "execute_result"
    },
    {
     "data": {
      "image/png": "[encoded data removed]",
      "text/plain": [
       "<Figure size 600x600 with 3 Axes>"
      ]
     },
     "metadata": {},
     "output_type": "display_data"
    }
   ],
   "source": [
    "sns.jointplot(dfcol[\"No of Reviews\"],dfcol[\"Course_Fee\"],hue=dfcol[\"RatingSummary\"])"
   ]
  },
  {
   "cell_type": "markdown",
   "id": "8a9704a9",
   "metadata": {},
   "source": [
    "### \"The jointplot indicates that the majority of reviews are rated between 200 and 400, with most falling within this range. One review received an 'Excellent' rating with a score above 4.\""
   ]
  },
  {
   "cell_type": "code",
   "execution_count": 148,
   "id": "633cbeb9",
   "metadata": {},
   "outputs": [
    {
     "data": {
      "image/png": "[encoded data removed]",
      "text/plain": [
       "<Figure size 750x750 with 12 Axes>"
      ]
     },
     "metadata": {},
     "output_type": "display_data"
    }
   ],
   "source": [
    "g = sns.pairplot(dfcol, vars=[\"No of Reviews\", \"Ratings\",\"Course_Fee\"])\n"
   ]
  },
  {
   "cell_type": "code",
   "execution_count": 149,
   "id": "109a1d3d",
   "metadata": {},
   "outputs": [
    {
     "data": {
      "image/png": "[encoded data removed]",
      "text/plain": [
       "<Figure size 750x750 with 12 Axes>"
      ]
     },
     "metadata": {},
     "output_type": "display_data"
    }
   ],
   "source": [
    "g = sns.pairplot(dfcol, diag_kind=\"kde\")"
   ]
  },
  {
   "cell_type": "markdown",
   "id": "dcff081f",
   "metadata": {},
   "source": [
    "### All  numberic columns are analysis using pairplot"
   ]
  },
  {
   "cell_type": "code",
   "execution_count": 150,
   "id": "bdee02ec",
   "metadata": {},
   "outputs": [
    {
     "data": {
      "text/plain": [
       "<AxesSubplot:>"
      ]
     },
     "execution_count": 150,
     "metadata": {},
     "output_type": "execute_result"
    },
    {
     "data": {
      "image/png": "[encoded data removed]",
      "text/plain": [
       "<Figure size 640x480 with 2 Axes>"
      ]
     },
     "metadata": {},
     "output_type": "display_data"
    }
   ],
   "source": [
    "sns.heatmap(dfcol.corr(),annot=True)"
   ]
  },
  {
   "cell_type": "markdown",
   "id": "cec24602",
   "metadata": {},
   "source": [
    "### high positive co-relation between Course_fee and Reviews, 3negative co-relation between Reviews and Ratings."
   ]
  },
  {
   "cell_type": "code",
   "execution_count": null,
   "id": "8fd814d8",
   "metadata": {},
   "outputs": [],
   "source": []
  },
  {
   "cell_type": "code",
   "execution_count": null,
   "id": "dc0b0bb5",
   "metadata": {},
   "outputs": [],
   "source": []
  },
  {
   "cell_type": "code",
   "execution_count": null,
   "id": "5c8a50be",
   "metadata": {},
   "outputs": [],
   "source": []
  }
 ],
 "metadata": {
  "kernelspec": {
   "display_name": "Python 3 (ipykernel)",
   "language": "python",
   "name": "python3"
  },
  "language_info": {
   "codemirror_mode": {
    "name": "ipython",
    "version": 3
   },
   "file_extension": ".py",
   "mimetype": "text/x-python",
   "name": "python",
   "nbconvert_exporter": "python",
   "pygments_lexer": "ipython3",
   "version": "3.9.13"
  }
 },
 "nbformat": 4,
 "nbformat_minor": 5
}
